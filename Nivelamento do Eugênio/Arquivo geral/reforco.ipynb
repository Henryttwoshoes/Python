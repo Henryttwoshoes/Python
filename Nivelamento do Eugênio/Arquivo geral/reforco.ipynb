{
  "cells": [
    {
      "cell_type": "markdown",
      "metadata": {
        "id": "bjE4-ZCX2Bnn"
      },
      "source": [
        "Primeiro exemplo de programa"
      ]
    },
    {
      "cell_type": "code",
      "execution_count": null,
      "metadata": {
        "colab": {
          "base_uri": "https://localhost:8080/"
        },
        "id": "fYLOXHYO1nVB",
        "outputId": "12ff666f-df13-4568-ccd1-4b3802837ada"
      },
      "outputs": [
        {
          "name": "stdout",
          "output_type": "stream",
          "text": [
            "Oi\n"
          ]
        }
      ],
      "source": [
        "# comentário\n",
        "print('Oi')\n",
        "\"\"\"\n",
        "Comentário\n",
        "de várias linhas\n",
        "\"\"\""
      ]
    },
    {
      "cell_type": "markdown",
      "metadata": {
        "id": "Zsnnluro2Oxa"
      },
      "source": [
        "Início do curso de reforço\n",
        "\n",
        "Dados x informação\n",
        "\n",
        "temperatura - 22°C\n",
        "\n",
        "Tipos de dados\n",
        "inteiro\n",
        "real\n",
        "\n",
        "1.5\n",
        "\n",
        "moeda     0.89\n",
        "\n",
        "Texto - 'texto'\n",
        "        \"texto\"\n",
        "\n",
        "Booleano\n",
        "\n",
        "Complexo\n",
        "\n"
      ]
    },
    {
      "cell_type": "code",
      "execution_count": null,
      "metadata": {
        "colab": {
          "base_uri": "https://localhost:8080/"
        },
        "id": "tgdYps_h7IqX",
        "outputId": "6f001e22-6046-4d27-b308-fd5dd7d497e6"
      },
      "outputs": [
        {
          "data": {
            "text/plain": [
              "False"
            ]
          },
          "execution_count": 11,
          "metadata": {},
          "output_type": "execute_result"
        }
      ],
      "source": [
        "1 > 2"
      ]
    },
    {
      "cell_type": "markdown",
      "metadata": {
        "id": "_WPfLM2a_g1R"
      },
      "source": [
        "Inteiros"
      ]
    },
    {
      "cell_type": "code",
      "execution_count": null,
      "metadata": {
        "colab": {
          "base_uri": "https://localhost:8080/"
        },
        "id": "xjEljKKc8jNd",
        "outputId": "8a12cd88-ed58-4f82-d911-00362a4df784"
      },
      "outputs": [
        {
          "data": {
            "text/plain": [
              "-10000"
            ]
          },
          "execution_count": 14,
          "metadata": {},
          "output_type": "execute_result"
        }
      ],
      "source": [
        "1_000_000_000\n",
        "1234\n",
        "0\n",
        "-10000"
      ]
    },
    {
      "cell_type": "markdown",
      "metadata": {
        "id": "AQaV52tf_nAa"
      },
      "source": [
        "Base 2"
      ]
    },
    {
      "cell_type": "code",
      "execution_count": null,
      "metadata": {
        "colab": {
          "base_uri": "https://localhost:8080/"
        },
        "id": "Hjoq3OwT9BKG",
        "outputId": "2dee54a8-65e7-4f30-b71c-5f8e1f578a49"
      },
      "outputs": [
        {
          "data": {
            "text/plain": [
              "511"
            ]
          },
          "execution_count": 17,
          "metadata": {},
          "output_type": "execute_result"
        }
      ],
      "source": [
        "0b111111111"
      ]
    },
    {
      "cell_type": "markdown",
      "metadata": {
        "id": "Xxzy9c-7_qqt"
      },
      "source": [
        "Base 8"
      ]
    },
    {
      "cell_type": "code",
      "execution_count": null,
      "metadata": {
        "colab": {
          "base_uri": "https://localhost:8080/"
        },
        "id": "wv_-GxGy9Sgj",
        "outputId": "1570beb5-2091-4229-fb72-a7bf0dc5fca5"
      },
      "outputs": [
        {
          "data": {
            "text/plain": [
              "4012"
            ]
          },
          "execution_count": 18,
          "metadata": {},
          "output_type": "execute_result"
        }
      ],
      "source": [
        "0o7654"
      ]
    },
    {
      "cell_type": "markdown",
      "metadata": {
        "id": "AnKBHurp_s41"
      },
      "source": [
        "Base 16"
      ]
    },
    {
      "cell_type": "code",
      "execution_count": null,
      "metadata": {
        "colab": {
          "base_uri": "https://localhost:8080/"
        },
        "id": "oEluOE2e9w6u",
        "outputId": "50b6fda8-ba3b-4301-c051-d4158181f7ad"
      },
      "outputs": [
        {
          "data": {
            "text/plain": [
              "51966"
            ]
          },
          "execution_count": 19,
          "metadata": {},
          "output_type": "execute_result"
        }
      ],
      "source": [
        "0xCAFE"
      ]
    },
    {
      "cell_type": "markdown",
      "metadata": {
        "id": "CGpEOf0R_uRj"
      },
      "source": [
        "Números reais"
      ]
    },
    {
      "cell_type": "code",
      "execution_count": null,
      "metadata": {
        "colab": {
          "base_uri": "https://localhost:8080/"
        },
        "id": "EVbGJSDx-HjK",
        "outputId": "8953218d-eaff-4c0b-9223-7f1dccd56399"
      },
      "outputs": [
        {
          "data": {
            "text/plain": [
              "6.02e+23"
            ]
          },
          "execution_count": 22,
          "metadata": {},
          "output_type": "execute_result"
        }
      ],
      "source": [
        "123.56\n",
        ".5\n",
        "6.02E23\n",
        "1E100"
      ]
    },
    {
      "cell_type": "markdown",
      "metadata": {
        "id": "CljtyjmT_v40"
      },
      "source": [
        "Números complexos"
      ]
    },
    {
      "cell_type": "code",
      "execution_count": null,
      "metadata": {
        "colab": {
          "base_uri": "https://localhost:8080/"
        },
        "id": "jxuhfnzO_CMP",
        "outputId": "99a62c15-3914-413d-96bd-5e53817bb1f3"
      },
      "outputs": [
        {
          "data": {
            "text/plain": [
              "(1+2j)"
            ]
          },
          "execution_count": 25,
          "metadata": {},
          "output_type": "execute_result"
        }
      ],
      "source": [
        "(1 + 2j)"
      ]
    },
    {
      "cell_type": "markdown",
      "metadata": {
        "id": "U9eUJZCI_2iX"
      },
      "source": [
        "Leitura e impressão"
      ]
    },
    {
      "cell_type": "code",
      "execution_count": null,
      "metadata": {
        "colab": {
          "base_uri": "https://localhost:8080/"
        },
        "id": "pjaO9qGW_2Oy",
        "outputId": "3e918549-8932-4c3b-df3b-f11fff79e4a1"
      },
      "outputs": [
        {
          "name": "stdout",
          "output_type": "stream",
          "text": [
            "digite seu nome:teste\n",
            "teste\n"
          ]
        }
      ],
      "source": [
        "entrada = input('digite seu nome:')\n",
        "print(entrada)\n"
      ]
    },
    {
      "cell_type": "markdown",
      "metadata": {
        "id": "crn4boUjAW86"
      },
      "source": [
        "Variável: parte da memória associada a um tipo e nome"
      ]
    },
    {
      "cell_type": "code",
      "execution_count": null,
      "metadata": {
        "id": "O5FBk4UwAqWI"
      },
      "outputs": [],
      "source": [
        "x = 10\n",
        "y = 1.5\n",
        "z = 'texto'"
      ]
    },
    {
      "cell_type": "markdown",
      "metadata": {
        "id": "9bPgw30ZBRYF"
      },
      "source": [
        "Operadores:\n",
        "Básicos:\n",
        "+ - * /\n",
        "//"
      ]
    },
    {
      "cell_type": "code",
      "execution_count": null,
      "metadata": {
        "colab": {
          "base_uri": "https://localhost:8080/"
        },
        "id": "T82VSqMqBOa7",
        "outputId": "6f0f76b1-a3e9-4ee4-9741-a7b97956dbd1"
      },
      "outputs": [
        {
          "name": "stdout",
          "output_type": "stream",
          "text": [
            "0.5\n",
            "0\n",
            "3\n",
            "1\n"
          ]
        }
      ],
      "source": [
        "print( 1/2 )\n",
        "print( 1//2 )\n",
        "print( 7//2 )\n",
        "print( 7 % 2 )"
      ]
    },
    {
      "cell_type": "code",
      "execution_count": null,
      "metadata": {
        "colab": {
          "base_uri": "https://localhost:8080/"
        },
        "id": "LTPptg3LCQ8V",
        "outputId": "3b9e003e-46dd-4892-c8ff-44cb85219683"
      },
      "outputs": [
        {
          "name": "stdout",
          "output_type": "stream",
          "text": [
            "Digite sua idade: 30\n",
            "1995\n"
          ]
        }
      ],
      "source": [
        "idade = int(input('Digite sua idade: '))\n",
        "print(2025 - idade)"
      ]
    },
    {
      "cell_type": "code",
      "execution_count": null,
      "metadata": {
        "colab": {
          "base_uri": "https://localhost:8080/"
        },
        "id": "_CnV_BF6C3s7",
        "outputId": "2bd13342-0549-46ca-c317-c0ba5c9875fa"
      },
      "outputs": [
        {
          "name": "stdout",
          "output_type": "stream",
          "text": [
            "digite ano de nascimento:1980\n",
            "45\n"
          ]
        }
      ],
      "source": [
        "ano = int(input(\"digite ano de nascimento:\")) # entrada\n",
        "idade = 2025-ano                              #cálculo\n",
        "print(idade)                                  #saída\n"
      ]
    },
    {
      "cell_type": "code",
      "execution_count": null,
      "metadata": {
        "colab": {
          "base_uri": "https://localhost:8080/"
        },
        "id": "xYoKSa_vDZ20",
        "outputId": "2b87c3d6-18b3-48ef-fcfd-feb0d2a8e0b1"
      },
      "outputs": [
        {
          "name": "stdout",
          "output_type": "stream",
          "text": [
            "Digite seu peso: 70\n",
            "Digite sua altura: 1.7\n",
            "24.221453287197235\n"
          ]
        }
      ],
      "source": [
        "peso = float(input(\"Digite seu peso: \"))\n",
        "altura = float(input(\"Digite sua altura: \"))\n",
        "imc = peso / (altura*altura)\n",
        "print(imc)"
      ]
    },
    {
      "cell_type": "markdown",
      "metadata": {
        "id": "nXaXTHjCbqAZ"
      },
      "source": [
        "Dadas duas variáveis x e y, trocar seus valores"
      ]
    },
    {
      "cell_type": "code",
      "execution_count": null,
      "metadata": {
        "colab": {
          "base_uri": "https://localhost:8080/"
        },
        "id": "Bzesz_ZFbnsn",
        "outputId": "b26b99eb-bee4-4945-af11-95d406d8e08f"
      },
      "outputs": [
        {
          "name": "stdout",
          "output_type": "stream",
          "text": [
            "2 1\n"
          ]
        }
      ],
      "source": [
        "x = 1\n",
        "y = 2\n",
        "temp = x\n",
        "x = y\n",
        "y = temp\n",
        "print(x, y)"
      ]
    },
    {
      "cell_type": "markdown",
      "metadata": {
        "id": "9vIdZQQmdPXA"
      },
      "source": [
        "Operdores de comparação e lógicos:\n",
        "\n",
        "\n",
        "< <= > >= != == **\n",
        "and\n",
        "or\n",
        "not\n"
      ]
    },
    {
      "cell_type": "code",
      "execution_count": null,
      "metadata": {
        "colab": {
          "base_uri": "https://localhost:8080/"
        },
        "id": "1JGvNPGVdkhj",
        "outputId": "3c7cf0b3-ef52-48ba-a0dc-5db25e40d307"
      },
      "outputs": [
        {
          "data": {
            "text/plain": [
              "True"
            ]
          },
          "execution_count": 2,
          "metadata": {},
          "output_type": "execute_result"
        }
      ],
      "source": [
        "1 < 2"
      ]
    },
    {
      "cell_type": "code",
      "execution_count": null,
      "metadata": {
        "colab": {
          "base_uri": "https://localhost:8080/"
        },
        "id": "Es_oZXdCd945",
        "outputId": "853fbcfa-00a9-43ec-f2a2-10d870ded52b"
      },
      "outputs": [
        {
          "data": {
            "text/plain": [
              "1024"
            ]
          },
          "execution_count": 3,
          "metadata": {},
          "output_type": "execute_result"
        }
      ],
      "source": [
        "2 ** 10"
      ]
    },
    {
      "cell_type": "code",
      "execution_count": null,
      "metadata": {
        "colab": {
          "base_uri": "https://localhost:8080/"
        },
        "id": "3yizxRuKeAiC",
        "outputId": "f8c5c296-327b-49ef-dffd-bcda9e3b149e"
      },
      "outputs": [
        {
          "data": {
            "text/plain": [
              "False"
            ]
          },
          "execution_count": 4,
          "metadata": {},
          "output_type": "execute_result"
        }
      ],
      "source": [
        "not ( 1 < 2 )"
      ]
    },
    {
      "cell_type": "markdown",
      "metadata": {
        "id": "0zOA8WbZeX4Q"
      },
      "source": [
        "Fazer um programa que lê a sua idade e diz se você pode dirigir"
      ]
    },
    {
      "cell_type": "code",
      "execution_count": null,
      "metadata": {
        "colab": {
          "base_uri": "https://localhost:8080/"
        },
        "id": "2bp56IkuepTy",
        "outputId": "93b15d26-b312-4f6f-f9a4-1e12363ce67a"
      },
      "outputs": [
        {
          "output_type": "stream",
          "name": "stdout",
          "text": [
            "Digite sua idade: 15\n",
            "fim\n"
          ]
        }
      ],
      "source": [
        "idade = int(input(\"Digite sua idade: \"))\n",
        "if idade >= 18:\n",
        "  print(\"você é maior e pode dirigir\")\n",
        "print(\"fim\")"
      ]
    },
    {
      "cell_type": "code",
      "source": [
        "idade = int(input(\"Digite sua idade: \"))\n",
        "if idade >= 18:\n",
        "  print(\"você é maior e pode dirigir\")\n",
        "else:\n",
        "  print(\"você é menor e não pode dirigir\")\n",
        "print(\"fim\")"
      ],
      "metadata": {
        "colab": {
          "base_uri": "https://localhost:8080/"
        },
        "id": "qJ-8nWwBgJki",
        "outputId": "a65f4057-c0c1-4939-f954-80a3b4296672"
      },
      "execution_count": null,
      "outputs": [
        {
          "output_type": "stream",
          "name": "stdout",
          "text": [
            "Digite sua idade: 10\n",
            "você é menor e não pode dirigir\n",
            "fim\n"
          ]
        }
      ]
    },
    {
      "cell_type": "code",
      "source": [
        "peso = float(input(\"Digite seu peso: \"))\n",
        "altura = float(input(\"Digite sua altura: \"))\n",
        "imc = peso / (altura*altura)\n",
        "print(imc)\n",
        "if imc < 18.5:\n",
        "  print(\"Magro\")\n",
        "elif imc < 25:\n",
        "  print(\"Normal\")\n",
        "elif imc < 30:\n",
        "  print(\"Sobrepeso\")\n",
        "else:\n",
        "  print(\"Obeso\")\n",
        "print(\"mais uma linha\")"
      ],
      "metadata": {
        "colab": {
          "base_uri": "https://localhost:8080/"
        },
        "id": "lF__9qIEgl3L",
        "outputId": "207dd5ec-7f3a-4a6f-ec28-70a45fbc7209"
      },
      "execution_count": null,
      "outputs": [
        {
          "output_type": "stream",
          "name": "stdout",
          "text": [
            "Digite seu peso: 100\n",
            "Digite sua altura: 1.7\n",
            "34.602076124567475\n",
            "Obeso\n",
            "mais uma linha\n"
          ]
        }
      ]
    },
    {
      "cell_type": "markdown",
      "source": [
        "Dados dois números inteiros, imprimir na ordem crescente"
      ],
      "metadata": {
        "id": "TdE1y1QsiSiK"
      }
    },
    {
      "cell_type": "code",
      "source": [
        "a = int( input(\"digite o 1o número\"))\n",
        "b = int( input(\"digite o 2o número\"))\n",
        "if a < b:\n",
        "  print(a, b)\n",
        "else:\n",
        "  print(b, a)"
      ],
      "metadata": {
        "colab": {
          "base_uri": "https://localhost:8080/"
        },
        "id": "hDocMYlTikTB",
        "outputId": "14f9c9d7-1703-4934-f2a3-4096089087de"
      },
      "execution_count": null,
      "outputs": [
        {
          "output_type": "stream",
          "name": "stdout",
          "text": [
            "digite o 1o número10\n",
            "digite o 2o número20\n",
            "10 20\n"
          ]
        }
      ]
    },
    {
      "cell_type": "markdown",
      "source": [
        "dados 3 números, imprimir em ordem crescente:\n",
        "```\n",
        "a b c\n",
        "a c b\n",
        "b a c\n",
        "b c a\n",
        "c a b\n",
        "c b a\n",
        "```\n"
      ],
      "metadata": {
        "id": "PdTB4NQfjgND"
      }
    },
    {
      "cell_type": "code",
      "source": [
        "a = int( input(\"digite o 1o número:\"))\n",
        "b = int( input(\"digite o 2o número:\"))\n",
        "c = int( input(\"digite o 3o número:\"))\n",
        "\n",
        "if ( a <= b and b <= c ):\n",
        "  print(a, b, c)\n",
        "elif ( a <= c and c <= b ):\n",
        "  print(a, c, b)\n",
        "elif (b <= a and a <= c ):\n",
        "  print(b, a, c)\n",
        "elif (b <= c and c <= a ):\n",
        "  print(b, c, a)\n",
        "elif (c <= a and a <= b ):\n",
        "  print(c, a, b)\n",
        "else:\n",
        "  print(c, b, a)"
      ],
      "metadata": {
        "colab": {
          "base_uri": "https://localhost:8080/"
        },
        "id": "wIOXL__HjxTN",
        "outputId": "9fafaf99-ddad-4f4d-b594-6e10b45edfd9"
      },
      "execution_count": null,
      "outputs": [
        {
          "output_type": "stream",
          "name": "stdout",
          "text": [
            "digite o 1o número:3\n",
            "digite o 2o número:2\n",
            "digite o 3o número:1\n",
            "1 2 3\n"
          ]
        }
      ]
    },
    {
      "cell_type": "markdown",
      "source": [
        "Dados 3 números reais, dizer se eles formam um triângulo retângulo"
      ],
      "metadata": {
        "id": "IiALja4emQHF"
      }
    },
    {
      "cell_type": "code",
      "source": [
        "a = float( input(\"digite o 1o número:\"))\n",
        "b = float( input(\"digite o 2o número:\"))\n",
        "c = float( input(\"digite o 3o número:\"))\n",
        "if a*a + b*b == c*c or a*a + c*c == b*b or b*b + c*c == a*a:\n",
        "  print(\"triângulo retângulo\")\n",
        "else:\n",
        "  print(\"não é triângulo retângulo\")"
      ],
      "metadata": {
        "colab": {
          "base_uri": "https://localhost:8080/"
        },
        "id": "xwbJmQtomJMc",
        "outputId": "bd5ffb09-1711-4632-8fcd-63e8c2be8e02"
      },
      "execution_count": null,
      "outputs": [
        {
          "output_type": "stream",
          "name": "stdout",
          "text": [
            "digite o 1o número:4\n",
            "digite o 2o número:3\n",
            "digite o 3o número:5\n",
            "triângulo retângulo\n"
          ]
        }
      ]
    },
    {
      "cell_type": "code",
      "source": [
        "x = 0.1239\n",
        "\n",
        "print(f'o valor de x é {x:.3f} texto')"
      ],
      "metadata": {
        "colab": {
          "base_uri": "https://localhost:8080/"
        },
        "id": "2KEDNyMzoEYN",
        "outputId": "8f9ca8a3-5bd0-4ce5-8413-7552f369ef8e"
      },
      "execution_count": null,
      "outputs": [
        {
          "output_type": "stream",
          "name": "stdout",
          "text": [
            "o valor de x é 0.124 texto\n"
          ]
        }
      ]
    },
    {
      "cell_type": "code",
      "source": [
        "a = int( input(\"digite o 1o número:\"))\n",
        "b = int( input(\"digite o 2o número:\"))\n",
        "c = int( input(\"digite o 3o número:\"))\n",
        "\n",
        "print(f'o valor de a é {a}, o valor de b é {b} , o valor de c é {c}')"
      ],
      "metadata": {
        "colab": {
          "base_uri": "https://localhost:8080/"
        },
        "id": "h3bgV_LgohKA",
        "outputId": "e25fbaa3-f2b3-4bac-841d-ad4e0c2b6c72"
      },
      "execution_count": null,
      "outputs": [
        {
          "output_type": "stream",
          "name": "stdout",
          "text": [
            "digite o 1o número:2\n",
            "digite o 2o número:3\n",
            "digite o 3o número:4\n",
            "o valor de a é 2, o valor de b é 3 , o valor de c é 4\n"
          ]
        }
      ]
    },
    {
      "cell_type": "code",
      "source": [
        "A = int(input())\n",
        "B = int(input())\n",
        "X = A + B\n",
        "print(f'X = {X}')"
      ],
      "metadata": {
        "colab": {
          "base_uri": "https://localhost:8080/"
        },
        "id": "_mcwoFOrp5jC",
        "outputId": "9e86599e-1a50-4d84-e30f-7bb74c6bb7a5"
      },
      "execution_count": null,
      "outputs": [
        {
          "output_type": "stream",
          "name": "stdout",
          "text": [
            "2\n",
            "3\n",
            "X = 5\n"
          ]
        }
      ]
    },
    {
      "cell_type": "code",
      "source": [
        "pi = 3.14159\n",
        "raio = float(input())\n",
        "area = pi * raio ** 2\n",
        "print(f'A={area:.4f}')"
      ],
      "metadata": {
        "colab": {
          "base_uri": "https://localhost:8080/"
        },
        "id": "WOHeiENRqymQ",
        "outputId": "4bba2f2a-066d-4b15-d6b9-fac3d4e5c03e"
      },
      "execution_count": null,
      "outputs": [
        {
          "output_type": "stream",
          "name": "stdout",
          "text": [
            "2\n",
            "A=12.5664\n"
          ]
        }
      ]
    },
    {
      "cell_type": "code",
      "source": [
        "x, y, z = 1,2,3\n",
        "print(x,y,z)"
      ],
      "metadata": {
        "colab": {
          "base_uri": "https://localhost:8080/"
        },
        "id": "OPi8v_qfr4ZU",
        "outputId": "3069730f-695c-4495-ef2c-177cd1752b6f"
      },
      "execution_count": null,
      "outputs": [
        {
          "output_type": "stream",
          "name": "stdout",
          "text": [
            "1 2 3\n"
          ]
        }
      ]
    },
    {
      "cell_type": "code",
      "source": [
        "nome, nomeDoMeio, sobreNome = 'Eugênio', 'Akihiro', 'Nassu'\n",
        "print(f'{nome} {nomeDoMeio} {sobreNome}')"
      ],
      "metadata": {
        "colab": {
          "base_uri": "https://localhost:8080/"
        },
        "id": "iM7t5ngusDp9",
        "outputId": "fed52e8d-f507-423b-e154-cdb4afd0cd73"
      },
      "execution_count": null,
      "outputs": [
        {
          "output_type": "stream",
          "name": "stdout",
          "text": [
            "Eugênio Akihiro Nassu\n"
          ]
        }
      ]
    },
    {
      "cell_type": "code",
      "source": [
        "codigo, quantidade, preco = input().split()\n",
        "print(codigo)\n",
        "print(quantidade)\n",
        "print(preco)"
      ],
      "metadata": {
        "colab": {
          "base_uri": "https://localhost:8080/"
        },
        "id": "MFcCxHTssrZm",
        "outputId": "403ddf3b-2a16-4546-a9e4-65770e64ef39"
      },
      "execution_count": null,
      "outputs": [
        {
          "output_type": "stream",
          "name": "stdout",
          "text": [
            "12 1 5.3\n",
            "12\n",
            "1\n",
            "5.3\n"
          ]
        }
      ]
    },
    {
      "cell_type": "code",
      "source": [
        "nome, nomeDoMeio, sobreNome = input().split()\n",
        "print(nome)\n",
        "print(nomeDoMeio)\n",
        "print(sobreNome)"
      ],
      "metadata": {
        "colab": {
          "base_uri": "https://localhost:8080/"
        },
        "id": "-4HjQswqsxy1",
        "outputId": "c54dee06-50aa-41a4-9199-eddae9cfdfa7"
      },
      "execution_count": null,
      "outputs": [
        {
          "output_type": "stream",
          "name": "stdout",
          "text": [
            "Eugênio Akihiro Nassu\n",
            "Eugênio\n",
            "Akihiro\n",
            "Nassu\n"
          ]
        }
      ]
    },
    {
      "cell_type": "code",
      "source": [
        "codigo, quantidade, preco = input().split()\n",
        "codigo = int(codigo)\n",
        "quantidade = int(quantidade)\n",
        "preco = float(preco)\n",
        "codigo1, quantidade1, preco1 = input().split()\n",
        "codigo1 = int(codigo1)\n",
        "quantidade1 = int(quantidade1)\n",
        "preco1 = float(preco1)\n",
        "valor = quantidade * preco + quantidade1 * preco1\n",
        "print(f'VALOR A PAGAR: R$ {valor:.2f}')\n"
      ],
      "metadata": {
        "colab": {
          "base_uri": "https://localhost:8080/"
        },
        "id": "GoxF28PYty98",
        "outputId": "51731b57-74dc-43c3-81f0-5b5026704765"
      },
      "execution_count": null,
      "outputs": [
        {
          "output_type": "stream",
          "name": "stdout",
          "text": [
            "12 1 5.30\n",
            "16 2 5.10\n",
            "VALOR A PAGAR: R$ 15.50\n"
          ]
        }
      ]
    },
    {
      "cell_type": "markdown",
      "source": [
        "Operadores avançados\n",
        "\n",
        "\n",
        "```\n",
        "AND Bit a bit - &\n",
        "\n",
        "0B101011101\n",
        "0B110100001\n",
        "--------------\n",
        "0B100000001\n",
        "\n",
        "OR Bit a bit - |\n",
        "\n",
        "0B101011101\n",
        "0B110100001\n",
        "--------------\n",
        "0B111111101\n",
        "\n",
        "OR exclusivo (XOR) - ^\n",
        "0B101011101\n",
        "0B110100001\n",
        "--------------\n",
        "0B011111100\n",
        "\n",
        "0B101010111 >> 3\n",
        "0B101010111 << 3\n"
      ],
      "metadata": {
        "id": "PfRFmer-viCs"
      }
    },
    {
      "cell_type": "code",
      "source": [
        "print( bin(0B101011101 & 0B110100001))\n",
        "print( bin(0B101011101 | 0B110100001))\n",
        "print( bin(0B101011101 ^ 0B110100001))\n",
        "print( 0B101011101 ^ 0B110100001)\n",
        "print( bin(0B101010111 >> 3))\n",
        "print( bin(0B101010111 << 5))"
      ],
      "metadata": {
        "colab": {
          "base_uri": "https://localhost:8080/"
        },
        "id": "1avTPHAsvhlI",
        "outputId": "a03281d1-8c4e-4f21-e588-1d170b2a77a5"
      },
      "execution_count": null,
      "outputs": [
        {
          "output_type": "stream",
          "name": "stdout",
          "text": [
            "0b100000001\n",
            "0b111111101\n",
            "0b11111100\n",
            "252\n",
            "0b101010\n",
            "0b10101011100000\n"
          ]
        }
      ]
    },
    {
      "cell_type": "markdown",
      "source": [
        "\n",
        "\n",
        "```\n",
        "Atribuição com operdor:\n",
        "+=\n",
        "-=\n",
        "*=\n",
        "/=\n",
        "//=\n",
        "%=\n",
        "**=\n",
        ">>=\n",
        "<<=\n",
        "&=\n",
        "|=\n",
        "^=\n",
        "\n",
        "```\n",
        "\n"
      ],
      "metadata": {
        "id": "Cz-7TEVayJht"
      }
    },
    {
      "cell_type": "code",
      "source": [
        "x = 0\n",
        "x += 2\n",
        "\n",
        "x &= 2"
      ],
      "metadata": {
        "id": "s5eWlfPGx-T0"
      },
      "execution_count": null,
      "outputs": []
    },
    {
      "cell_type": "markdown",
      "source": [
        "range: definição de intervalos\n",
        "\n",
        "\n",
        "\n",
        "```\n",
        "range( <início>, <limite>, <incremento> )\n",
        "```\n",
        "\n",
        "\n",
        "início - opcional, padrão 0\n",
        "incremento, opcional, padrão 1\n",
        "```\n",
        "exemplos:\n",
        "range(10) - 0 1 2 3 4 5 6 7 8 9\n",
        "range(1,11) - 1 2 3 4 5 6 7 8 9 10\n",
        "range(0, 11, 2) - 0 2 4 6 8 10\n",
        "```\n",
        "comando for é bastante comum com o range\n",
        "\n",
        "for - usado quando precisamos repetir um comando e a quantidade de repetições é conhecida\n",
        "\n"
      ],
      "metadata": {
        "id": "sphnnBXVr4MY"
      }
    },
    {
      "cell_type": "markdown",
      "source": [],
      "metadata": {
        "id": "C9K1QhXYy8xR"
      }
    },
    {
      "cell_type": "code",
      "source": [
        "# imprimir o nome digitado 10 vezes\n",
        "\n",
        "nome = input(\"digite seu nome\")\n",
        "for i in range(10):\n",
        "  print(f'{nome} {i} vezes')"
      ],
      "metadata": {
        "colab": {
          "base_uri": "https://localhost:8080/"
        },
        "id": "epJopHbErKUb",
        "outputId": "2a94c056-5ec2-4db1-ba74-2a74c59c53c4"
      },
      "execution_count": null,
      "outputs": [
        {
          "output_type": "stream",
          "name": "stdout",
          "text": [
            "digite seu nomeEugênio\n",
            "Eugênio 0 vezes\n",
            "Eugênio 1 vezes\n",
            "Eugênio 2 vezes\n",
            "Eugênio 3 vezes\n",
            "Eugênio 4 vezes\n",
            "Eugênio 5 vezes\n",
            "Eugênio 6 vezes\n",
            "Eugênio 7 vezes\n",
            "Eugênio 8 vezes\n",
            "Eugênio 9 vezes\n"
          ]
        }
      ]
    },
    {
      "cell_type": "code",
      "source": [
        "# imprimir números de 1 a 5\n",
        "for n in range(1,6):\n",
        "  print(n)"
      ],
      "metadata": {
        "colab": {
          "base_uri": "https://localhost:8080/"
        },
        "id": "U60Uba6MwCDU",
        "outputId": "ace2f0fb-76ce-4411-d6d2-0fd48c5e1fe0"
      },
      "execution_count": null,
      "outputs": [
        {
          "output_type": "stream",
          "name": "stdout",
          "text": [
            "1\n",
            "2\n",
            "3\n",
            "4\n",
            "5\n"
          ]
        }
      ]
    },
    {
      "cell_type": "code",
      "source": [
        "# diz se um número é par ou ímpar (números de 0 a 10)\n",
        "\n",
        "for n in range(11):\n",
        "  if( n % 2 == 0 ):\n",
        "    print(f'{n} é par')\n",
        "  else:\n",
        "    print(f'{n} é ímpar')"
      ],
      "metadata": {
        "colab": {
          "base_uri": "https://localhost:8080/"
        },
        "id": "dCbhcX12w2t9",
        "outputId": "766b6a96-797a-40ff-e67a-d8c3827a27cc"
      },
      "execution_count": null,
      "outputs": [
        {
          "output_type": "stream",
          "name": "stdout",
          "text": [
            "0 é par\n",
            "1 é ímpar\n",
            "2 é par\n",
            "3 é ímpar\n",
            "4 é par\n",
            "5 é ímpar\n",
            "6 é par\n",
            "7 é ímpar\n",
            "8 é par\n",
            "9 é ímpar\n",
            "10 é par\n"
          ]
        }
      ]
    },
    {
      "cell_type": "markdown",
      "source": [],
      "metadata": {
        "id": "_dDc7IOYxQ-V"
      }
    },
    {
      "cell_type": "markdown",
      "source": [
        "Dado um número n, imprimir sua tabuada"
      ],
      "metadata": {
        "id": "K5DTCtBsx2OV"
      }
    },
    {
      "cell_type": "code",
      "source": [
        "n = int( input('digite n:') )\n",
        "for i in range(1,11):\n",
        "  print(f'{n:2} x {i:2} = {n*i:2}')"
      ],
      "metadata": {
        "colab": {
          "base_uri": "https://localhost:8080/"
        },
        "id": "snH-woW6x_Sz",
        "outputId": "cebde342-e77f-47b6-e394-2294c41dcfbc"
      },
      "execution_count": null,
      "outputs": [
        {
          "output_type": "stream",
          "name": "stdout",
          "text": [
            "digite n:13\n",
            "13 x  1 = 13\n",
            "13 x  2 = 26\n",
            "13 x  3 = 39\n",
            "13 x  4 = 52\n",
            "13 x  5 = 65\n",
            "13 x  6 = 78\n",
            "13 x  7 = 91\n",
            "13 x  8 = 104\n",
            "13 x  9 = 117\n",
            "13 x 10 = 130\n"
          ]
        }
      ]
    },
    {
      "cell_type": "markdown",
      "source": [
        "Faça um programa que lê 5 números, imprimindo a soma de todos os números no final\n",
        "\n",
        "soma é uma variável acumuladora"
      ],
      "metadata": {
        "id": "sMVPlAYOzR84"
      }
    },
    {
      "cell_type": "code",
      "source": [
        "soma = 0\n",
        "for i in range(5):\n",
        "  n = int( input('digite o número:'))\n",
        "  soma = soma + n\n",
        "\n",
        "print(f'a soma dos números é {soma}')"
      ],
      "metadata": {
        "colab": {
          "base_uri": "https://localhost:8080/"
        },
        "id": "PfmFIVM0zxZm",
        "outputId": "b2dc0e4e-2078-4170-df99-1bc5ace994b7"
      },
      "execution_count": null,
      "outputs": [
        {
          "output_type": "stream",
          "name": "stdout",
          "text": [
            "digite o número:1\n",
            "digite o número:2\n",
            "digite o número:3\n",
            "digite o número:4\n",
            "digite o número:5\n",
            "a soma dos números é 15\n"
          ]
        }
      ]
    },
    {
      "cell_type": "markdown",
      "source": [
        "Faça um programa que lê 5 números e imprime qual deles é o maior"
      ],
      "metadata": {
        "id": "C5Vv29e-16ZE"
      }
    },
    {
      "cell_type": "code",
      "source": [
        "n = int( input('digite um número:') )\n",
        "maior = n;\n",
        "for i in range(4):\n",
        "  n = int( input('digite um número:') )\n",
        "  if n > maior:\n",
        "    maior = n\n",
        "\n",
        "print(f'o maior número é {maior}')"
      ],
      "metadata": {
        "colab": {
          "base_uri": "https://localhost:8080/"
        },
        "id": "IGXQl-g515sF",
        "outputId": "7feed4c5-e5cc-4b9a-a914-92ed2b5b7bd8"
      },
      "execution_count": null,
      "outputs": [
        {
          "output_type": "stream",
          "name": "stdout",
          "text": [
            "digite um número:-1\n",
            "digite um número:3\n",
            "digite um número:0\n",
            "digite um número:4\n",
            "digite um número:2\n",
            "o maior número é 4\n"
          ]
        }
      ]
    },
    {
      "cell_type": "markdown",
      "source": [
        "Dadas as notas de prova de 10 alunos, imprimir qual foi a média das notas"
      ],
      "metadata": {
        "id": "if8YVMCJ33_A"
      }
    },
    {
      "cell_type": "code",
      "source": [
        "print('digite 10 notas:')\n",
        "soma = 0\n",
        "for i in range(10):\n",
        "  nota = float(input(\"nota:\"))\n",
        "  soma += nota\n",
        "media = soma / 10\n",
        "print(f'a média é {media:.1f}')"
      ],
      "metadata": {
        "colab": {
          "base_uri": "https://localhost:8080/"
        },
        "id": "IrSITA524BAg",
        "outputId": "7e20fd9f-2dbf-422a-8780-104d611a1bdd"
      },
      "execution_count": null,
      "outputs": [
        {
          "output_type": "stream",
          "name": "stdout",
          "text": [
            "digite 10 notas:\n",
            "nota:7\n",
            "nota:6\n",
            "nota:4\n",
            "nota:9\n",
            "nota:8\n",
            "nota:10\n",
            "nota:4\n",
            "nota:0\n",
            "nota:1\n",
            "nota:4\n",
            "a média é 5.3\n"
          ]
        }
      ]
    },
    {
      "cell_type": "markdown",
      "source": [
        "2.  Dado um número inteiro positivo n, calcular a soma dos n primeiros números inteiros positivos."
      ],
      "metadata": {
        "id": "QbqZ06Xm527d"
      }
    },
    {
      "cell_type": "code",
      "source": [
        "n = int( input('digite n:'))\n",
        "soma = 0\n",
        "for i in range(n+1):\n",
        "  soma += i\n",
        "print(f'a soma é {soma}')"
      ],
      "metadata": {
        "colab": {
          "base_uri": "https://localhost:8080/"
        },
        "id": "zVqmK-Dy8gvN",
        "outputId": "9efd662c-ced1-4cd4-dc6f-1b71e9a9e478"
      },
      "execution_count": null,
      "outputs": [
        {
          "output_type": "stream",
          "name": "stdout",
          "text": [
            "digite n:999\n",
            "a soma é 499500\n"
          ]
        }
      ]
    },
    {
      "cell_type": "markdown",
      "source": [
        "1    2    3    4    ....      498  499 500\n",
        "1000 999  998  997            503  502 501\n",
        "----------------------------------------\n",
        "1001 1001 1001 1001          1001 1001 1001\n",
        "\n",
        "1001 * 500 = 500500\n",
        "\n",
        "(n + 1) * n / 2"
      ],
      "metadata": {
        "id": "8pPaDLLm9nXd"
      }
    },
    {
      "cell_type": "code",
      "source": [
        "n = int( input('digite n:'))\n",
        "soma = (n+1) * n / 2\n",
        "print(f'a soma é {soma}')"
      ],
      "metadata": {
        "colab": {
          "base_uri": "https://localhost:8080/"
        },
        "id": "eiY3PGwo-6YS",
        "outputId": "9175389e-4de8-46a0-fa35-5c567c556780"
      },
      "execution_count": null,
      "outputs": [
        {
          "output_type": "stream",
          "name": "stdout",
          "text": [
            "digite n:999\n",
            "a soma é 499500.0\n"
          ]
        }
      ]
    },
    {
      "cell_type": "code",
      "source": [
        "# exemplo: cálculo do fatorial de n\n",
        "n = int(input('digite n:'))\n",
        "fatorial = 1\n",
        "for i in range(1,n+1):\n",
        "  fatorial *= i\n",
        "print(f'{n}! = {fatorial}')"
      ],
      "metadata": {
        "colab": {
          "base_uri": "https://localhost:8080/"
        },
        "id": "bdtTzFkM_lkn",
        "outputId": "c4df0f68-a038-4540-8ec7-c63afe8e502f"
      },
      "execution_count": null,
      "outputs": [
        {
          "output_type": "stream",
          "name": "stdout",
          "text": [
            "digite n:50\n",
            "50! = 30414093201713378043612608166064768844377641568960512000000000000\n"
          ]
        }
      ]
    },
    {
      "cell_type": "markdown",
      "source": [
        "Dados dia, mês e ano, dizer se eles formam uma data válida\n",
        "\n",
        "9\n",
        "4\n",
        "2025\n",
        "data válida\n",
        "\n",
        "ano bissexto - (ano % 4 == 0 and ano % 100 != 0) or (ano % 400 == 0)"
      ],
      "metadata": {
        "id": "nfLoLw-zAbuz"
      }
    },
    {
      "cell_type": "code",
      "source": [
        "dia = int( input('digite o dia:'))\n",
        "mes = int( input('digite o mês:'))\n",
        "ano = int( input('digite o ano:'))\n",
        "dataValida = True\n",
        "if( mes >= 1 and mes <= 12 ):\n",
        "  if mes == 1 or mes == 3 or mes == 5 or mes == 7 or mes == 8 or mes == 10 or mes == 12:\n",
        "    if ( dia < 1 or dia > 31 ):\n",
        "      dataValida = False\n",
        "  elif mes == 4 or mes == 6 or mes == 9 or mes == 11:\n",
        "    if ( dia < 1 or dia > 30 ):\n",
        "      dataValida = False\n",
        "  elif  (ano % 4 == 0 and ano % 100 != 0) or (ano % 400 == 0):\n",
        "    if ( mes == 2 and (dia < 1 or dia > 29)):\n",
        "      dataValida = False\n",
        "  elif ( mes == 2 and (dia < 1 or dia > 28)):\n",
        "    dataValida = False\n",
        "else:\n",
        "  dataValida = False\n",
        "\n",
        "if ( dataValida ):\n",
        "  print('data válida')\n",
        "else:\n",
        "  print('data inválida')"
      ],
      "metadata": {
        "colab": {
          "base_uri": "https://localhost:8080/"
        },
        "id": "AZFLssCeAhu6",
        "outputId": "20253762-708d-45ab-f3ff-7614fb4f1e73"
      },
      "execution_count": null,
      "outputs": [
        {
          "output_type": "stream",
          "name": "stdout",
          "text": [
            "digite o dia:1\n",
            "digite o mês:4\n",
            "digite o ano:2000\n",
            "data válida\n"
          ]
        }
      ]
    },
    {
      "cell_type": "markdown",
      "source": [
        "while - número indefinido de repetições\n",
        "\n",
        "exemplo: problema da lista macmulti 1"
      ],
      "metadata": {
        "id": "Giq_aCWVeT9N"
      }
    },
    {
      "cell_type": "code",
      "source": [
        "n = int( input('digite um número:'))\n",
        "while n != 0:\n",
        "  print( n*n )\n",
        "  n = int(input('digite um número:'))"
      ],
      "metadata": {
        "colab": {
          "base_uri": "https://localhost:8080/"
        },
        "id": "80_UHXzceTQM",
        "outputId": "700dd97a-100b-4224-cb38-bf96aff6149a"
      },
      "execution_count": null,
      "outputs": [
        {
          "name": "stdout",
          "output_type": "stream",
          "text": [
            "digite um número:1\n",
            "1\n",
            "digite um número:3\n",
            "9\n",
            "digite um número:5\n",
            "25\n",
            "digite um número:3\n",
            "9\n",
            "digite um número:7\n",
            "49\n",
            "digite um número:10\n",
            "100\n",
            "digite um número:1000\n",
            "1000000\n",
            "digite um número:3\n",
            "9\n",
            "digite um número:-1\n",
            "1\n",
            "digite um número:-9\n",
            "81\n",
            "digite um número:18\n",
            "324\n",
            "digite um número:20\n",
            "400\n",
            "digite um número:0\n"
          ]
        }
      ]
    },
    {
      "cell_type": "markdown",
      "source": [
        "Dados dois números inteiros positivos, x e y, calcule x//y, mas sem utilizar o operador //\n",
        "Podemos resolver este problema usando o while, a subtração\n",
        "\n",
        "10 // 3\n",
        "10 % 3"
      ],
      "metadata": {
        "id": "RrZa4YWDf4lB"
      }
    },
    {
      "cell_type": "code",
      "source": [
        "x = int ( input('digite x:'))\n",
        "y = int ( input('digite y:'))\n",
        "quociente = 0\n",
        "resto = x;\n",
        "while resto >= y:\n",
        "  resto -= y;\n",
        "  quociente += 1\n",
        "print(f'quociente = {quociente}')\n",
        "print(f'resto = {resto}')"
      ],
      "metadata": {
        "colab": {
          "base_uri": "https://localhost:8080/"
        },
        "id": "yk33NNutgN76",
        "outputId": "95ddf375-a349-4d79-eaa6-5a226c81e82d"
      },
      "execution_count": null,
      "outputs": [
        {
          "output_type": "stream",
          "name": "stdout",
          "text": [
            "digite x:10\n",
            "digite y:3\n",
            "quociente = 3\n",
            "resto = 1\n"
          ]
        }
      ]
    },
    {
      "cell_type": "markdown",
      "source": [
        "Fazer um número de repetições fixo, ex: imprimir o nome 10 vezes com while"
      ],
      "metadata": {
        "id": "3VTEaAuMi28z"
      }
    },
    {
      "cell_type": "code",
      "source": [
        "nome = input('digite o nome:')\n",
        "contador = 0\n",
        "while contador < 10:\n",
        "  print(nome)\n",
        "  contador += 1"
      ],
      "metadata": {
        "colab": {
          "base_uri": "https://localhost:8080/"
        },
        "id": "2q18u7cLi2Xn",
        "outputId": "a29df2b0-253c-4a6a-d5c2-136f7e0be00e"
      },
      "execution_count": null,
      "outputs": [
        {
          "output_type": "stream",
          "name": "stdout",
          "text": [
            "digite o nome:eugenio\n",
            "eugenio\n",
            "eugenio\n",
            "eugenio\n",
            "eugenio\n",
            "eugenio\n",
            "eugenio\n",
            "eugenio\n",
            "eugenio\n",
            "eugenio\n",
            "eugenio\n"
          ]
        }
      ]
    },
    {
      "cell_type": "markdown",
      "source": [
        "número triangular: produto de 3 números inteiros positivos\n",
        "\n",
        "Dado n, verificar se ele é triangular.\n",
        "```\n",
        "1 * 2 * 3\n",
        "2 * 3 * 4\n",
        "3 * 4 * 5 ... até que o produto seja igual ou maior que n\n",
        "```\n"
      ],
      "metadata": {
        "id": "51p3FmiHj25z"
      }
    },
    {
      "cell_type": "code",
      "source": [
        "n = int( input('digite n:'))\n",
        "i = 1\n",
        "while i * (i+1) * (i+2) < n:\n",
        "  i += 1\n",
        "if n == i * (i+1) * (i+2):\n",
        "  print('n é triangular')\n",
        "else:\n",
        "  print('n não é triangular')"
      ],
      "metadata": {
        "colab": {
          "base_uri": "https://localhost:8080/"
        },
        "id": "17yRd8xHjxzu",
        "outputId": "4b225039-be80-4d15-9229-9875d81d0275"
      },
      "execution_count": null,
      "outputs": [
        {
          "output_type": "stream",
          "name": "stdout",
          "text": [
            "digite n:400\n",
            "n não é triangular\n"
          ]
        }
      ]
    },
    {
      "cell_type": "markdown",
      "source": [
        "Dados dois números inteiros, calcular o MDC entre eles"
      ],
      "metadata": {
        "id": "wUMg1pZnmF1s"
      }
    },
    {
      "cell_type": "code",
      "source": [
        "x = int( input('digite um número:'))\n",
        "y = int( input('digite outro número:'))\n",
        "p = x\n",
        "q = y\n",
        "r = p % q\n",
        "while r != 0:\n",
        "  p = q\n",
        "  q = r\n",
        "  r = p % q\n",
        "print(f'o MDC de {x} e {y} é {q}')"
      ],
      "metadata": {
        "colab": {
          "base_uri": "https://localhost:8080/"
        },
        "id": "9lSEZs1bmP9H",
        "outputId": "82db09f2-d16f-40d1-d1f7-b5c7d3040969"
      },
      "execution_count": null,
      "outputs": [
        {
          "output_type": "stream",
          "name": "stdout",
          "text": [
            "digite um número:24\n",
            "digite outro número:18\n",
            "o MDC de 24 e 18 é 6\n"
          ]
        }
      ]
    },
    {
      "cell_type": "markdown",
      "source": [
        "Número perfeito: igual a soma de seus divisores menores que ele mesmo:\n",
        "exemplo: 6 = 1 + 2 + 3\n",
        "dado n, verificar se ele é perfeito"
      ],
      "metadata": {
        "id": "YoXExT6poQTH"
      }
    },
    {
      "cell_type": "code",
      "source": [
        "n = int( input('digite n:'))\n",
        "soma = 0;\n",
        "divisor = 1;\n",
        "while divisor <= n//2:\n",
        "  if n % divisor == 0:\n",
        "    soma += divisor\n",
        "  divisor += 1\n",
        "if soma == n:\n",
        "  print('número perfeito!')\n",
        "else:\n",
        "  print('não é perfeito!')"
      ],
      "metadata": {
        "colab": {
          "base_uri": "https://localhost:8080/"
        },
        "id": "sPfSVXv_odBk",
        "outputId": "8169935d-098c-435c-930b-efbe41a48ee6"
      },
      "execution_count": null,
      "outputs": [
        {
          "output_type": "stream",
          "name": "stdout",
          "text": [
            "digite n:33550336\n",
            "número perfeito!\n"
          ]
        }
      ]
    },
    {
      "cell_type": "markdown",
      "source": [
        "problema 20 da lista Macmulti\n",
        "\n",
        "00 00 = 0\n",
        "00 01 = 1\n",
        "20 25 = 45 * 45 = 2025\n",
        "30 25 = 55 * 55 = 3025\n",
        "98 01 = 99 * 99 = 9801"
      ],
      "metadata": {
        "id": "HvxW1D_JrTsL"
      }
    },
    {
      "cell_type": "code",
      "source": [
        "for n in range(10000):\n",
        "  x = n % 100\n",
        "  y = n // 100\n",
        "  if (x+y)**2 == n:\n",
        "    print(n)"
      ],
      "metadata": {
        "colab": {
          "base_uri": "https://localhost:8080/"
        },
        "id": "ZCQOmq5vrbBW",
        "outputId": "ce2fd1d5-c241-480e-a745-580c55a2dc90"
      },
      "execution_count": null,
      "outputs": [
        {
          "output_type": "stream",
          "name": "stdout",
          "text": [
            "0\n",
            "1\n",
            "2025\n",
            "3025\n",
            "9801\n"
          ]
        }
      ]
    },
    {
      "cell_type": "markdown",
      "source": [
        "resolver o exercício 1059 - imprimir os números pares entre 1 e 100 (inclusive)"
      ],
      "metadata": {
        "id": "PQ-Kd5kguo9P"
      }
    },
    {
      "cell_type": "code",
      "source": [
        "for n in range(1, 101):\n",
        "  if n % 2 == 0:\n",
        "    print(n)"
      ],
      "metadata": {
        "colab": {
          "base_uri": "https://localhost:8080/"
        },
        "id": "bpy5LQf9u3Jg",
        "outputId": "e9f77fe1-9484-4816-8fd5-a923035bf93d"
      },
      "execution_count": null,
      "outputs": [
        {
          "output_type": "stream",
          "name": "stdout",
          "text": [
            "2\n",
            "4\n",
            "6\n",
            "8\n",
            "10\n",
            "12\n",
            "14\n",
            "16\n",
            "18\n",
            "20\n",
            "22\n",
            "24\n",
            "26\n",
            "28\n",
            "30\n",
            "32\n",
            "34\n",
            "36\n",
            "38\n",
            "40\n",
            "42\n",
            "44\n",
            "46\n",
            "48\n",
            "50\n",
            "52\n",
            "54\n",
            "56\n",
            "58\n",
            "60\n",
            "62\n",
            "64\n",
            "66\n",
            "68\n",
            "70\n",
            "72\n",
            "74\n",
            "76\n",
            "78\n",
            "80\n",
            "82\n",
            "84\n",
            "86\n",
            "88\n",
            "90\n",
            "92\n",
            "94\n",
            "96\n",
            "98\n",
            "100\n"
          ]
        }
      ]
    },
    {
      "cell_type": "code",
      "source": [
        "for n in range(2, 101, 2):\n",
        "  print(n)"
      ],
      "metadata": {
        "colab": {
          "base_uri": "https://localhost:8080/"
        },
        "id": "JBMCDVPXxIZE",
        "outputId": "ba849ba7-da12-4cd1-996b-9908eec046a8"
      },
      "execution_count": null,
      "outputs": [
        {
          "output_type": "stream",
          "name": "stdout",
          "text": [
            "2\n",
            "4\n",
            "6\n",
            "8\n",
            "10\n",
            "12\n",
            "14\n",
            "16\n",
            "18\n",
            "20\n",
            "22\n",
            "24\n",
            "26\n",
            "28\n",
            "30\n",
            "32\n",
            "34\n",
            "36\n",
            "38\n",
            "40\n",
            "42\n",
            "44\n",
            "46\n",
            "48\n",
            "50\n",
            "52\n",
            "54\n",
            "56\n",
            "58\n",
            "60\n",
            "62\n",
            "64\n",
            "66\n",
            "68\n",
            "70\n",
            "72\n",
            "74\n",
            "76\n",
            "78\n",
            "80\n",
            "82\n",
            "84\n",
            "86\n",
            "88\n",
            "90\n",
            "92\n",
            "94\n",
            "96\n",
            "98\n",
            "100\n"
          ]
        }
      ]
    },
    {
      "cell_type": "markdown",
      "source": [
        "problema 1060 beecrowd:"
      ],
      "metadata": {
        "id": "tmBB1SDNyDe_"
      }
    },
    {
      "cell_type": "code",
      "source": [
        "contador = 0\n",
        "for i in range(6):\n",
        "  x = float(input())\n",
        "  if x > 0:\n",
        "    contador += 1\n",
        "print(f'{contador} valores positivos')"
      ],
      "metadata": {
        "colab": {
          "base_uri": "https://localhost:8080/"
        },
        "id": "V1SpQPCWyGtA",
        "outputId": "a2f996db-2b7c-40d6-a36e-f247b004eb3c"
      },
      "execution_count": null,
      "outputs": [
        {
          "output_type": "stream",
          "name": "stdout",
          "text": [
            "7\n",
            "-5\n",
            "6\n",
            "-3.4\n",
            "4.6\n",
            "12\n",
            "4 valores positivos\n"
          ]
        }
      ]
    },
    {
      "cell_type": "markdown",
      "source": [
        "problema 1072 beecrowd"
      ],
      "metadata": {
        "id": "tNt4Eivi0kiD"
      }
    },
    {
      "cell_type": "code",
      "source": [
        "n = int(input())\n",
        "contin = 0\n",
        "for i in range(n):\n",
        "  x = int(input())\n",
        "  if x >= 10 and x <= 20:\n",
        "    contin += 1\n",
        "contout = n - contin\n",
        "print(f'{contin} in')\n",
        "print(f'{contout} out')"
      ],
      "metadata": {
        "id": "IsmaqNnZ0nXe"
      },
      "execution_count": null,
      "outputs": []
    },
    {
      "cell_type": "code",
      "source": [
        "# break interrompe o comando for\n",
        "for n in range(100):\n",
        "  print(n)\n",
        "  if n == 50:\n",
        "    break"
      ],
      "metadata": {
        "colab": {
          "base_uri": "https://localhost:8080/"
        },
        "id": "js-u25t91jan",
        "outputId": "c0f43b64-861b-48bf-edae-0fa4c8f0922c"
      },
      "execution_count": null,
      "outputs": [
        {
          "output_type": "stream",
          "name": "stdout",
          "text": [
            "0\n",
            "1\n",
            "2\n",
            "3\n",
            "4\n",
            "5\n",
            "6\n",
            "7\n",
            "8\n",
            "9\n",
            "10\n",
            "11\n",
            "12\n",
            "13\n",
            "14\n",
            "15\n",
            "16\n",
            "17\n",
            "18\n",
            "19\n",
            "20\n",
            "21\n",
            "22\n",
            "23\n",
            "24\n",
            "25\n",
            "26\n",
            "27\n",
            "28\n",
            "29\n",
            "30\n",
            "31\n",
            "32\n",
            "33\n",
            "34\n",
            "35\n",
            "36\n",
            "37\n",
            "38\n",
            "39\n",
            "40\n",
            "41\n",
            "42\n",
            "43\n",
            "44\n",
            "45\n",
            "46\n",
            "47\n",
            "48\n",
            "49\n",
            "50\n"
          ]
        }
      ]
    },
    {
      "cell_type": "code",
      "source": [
        "for n in range(10):\n",
        "  if n % 2 == 0:\n",
        "    continue\n",
        "  print(n)"
      ],
      "metadata": {
        "colab": {
          "base_uri": "https://localhost:8080/"
        },
        "id": "vn-GsubC13gB",
        "outputId": "360f9f02-9166-4b1d-e7d2-1d46bb397ab9"
      },
      "execution_count": null,
      "outputs": [
        {
          "output_type": "stream",
          "name": "stdout",
          "text": [
            "1\n",
            "3\n",
            "5\n",
            "7\n",
            "9\n"
          ]
        }
      ]
    },
    {
      "cell_type": "code",
      "source": [
        "for n in range(5):\n",
        "  print(n)\n",
        "else:\n",
        "  print('acabou o for')"
      ],
      "metadata": {
        "colab": {
          "base_uri": "https://localhost:8080/"
        },
        "id": "WU8j3BWo2Ise",
        "outputId": "8d651d02-b2c0-46ec-962d-effda11e873e"
      },
      "execution_count": null,
      "outputs": [
        {
          "output_type": "stream",
          "name": "stdout",
          "text": [
            "0\n",
            "1\n",
            "2\n",
            "3\n",
            "4\n",
            "acabou o for\n"
          ]
        }
      ]
    },
    {
      "cell_type": "code",
      "source": [
        "cont = 0;\n",
        "while cont < 5:\n",
        "  print(cont)\n",
        "  cont += 1\n",
        "else:\n",
        "  print('fim do while')"
      ],
      "metadata": {
        "colab": {
          "base_uri": "https://localhost:8080/"
        },
        "id": "0yejQ48r2VQL",
        "outputId": "a56a0854-4a71-40fd-ca59-4792fb7257e2"
      },
      "execution_count": null,
      "outputs": [
        {
          "output_type": "stream",
          "name": "stdout",
          "text": [
            "0\n",
            "1\n",
            "2\n",
            "3\n",
            "4\n",
            "fim do while\n"
          ]
        }
      ]
    },
    {
      "cell_type": "markdown",
      "source": [],
      "metadata": {
        "id": "3hZn-SKGum92"
      }
    },
    {
      "cell_type": "markdown",
      "source": [
        "Aula de 16/4 - Tipos compostos\n",
        "Tuplas\n",
        "Listas\n",
        "dicionário\n",
        "conjunto\n",
        "vetores e matrizes"
      ],
      "metadata": {
        "id": "UyochTwPvZF3"
      }
    },
    {
      "cell_type": "code",
      "source": [
        "t = (1, 9, 3.14, 'aula')\n",
        "tuplaVazia = ()\n",
        "print( t[0] )\n",
        "print(t[1:3]) # intervalo a partir do índice 1 e com índice menor que 3\n",
        "print(t[2:])\n",
        "# t[0] = 0 #dá erro pois não é permitido alterar o valor de um elemento da tupla"
      ],
      "metadata": {
        "colab": {
          "base_uri": "https://localhost:8080/"
        },
        "id": "YL1t3nYuujZ-",
        "outputId": "77904aa3-3610-478f-a1ea-c4cdc9be59cc"
      },
      "execution_count": null,
      "outputs": [
        {
          "output_type": "stream",
          "name": "stdout",
          "text": [
            "1\n",
            "(9, 3.14)\n",
            "(3.14, 'aula')\n"
          ]
        }
      ]
    },
    {
      "cell_type": "code",
      "source": [
        "tAeroportos = ('JFK', 'GRU', 'CGN', 'CDG', 'KLA', 'KAT')\n",
        "print(tAeroportos[3:])\n",
        "print(tAeroportos[1:4])"
      ],
      "metadata": {
        "colab": {
          "base_uri": "https://localhost:8080/"
        },
        "id": "6okBA1KYz0rN",
        "outputId": "ebb5033f-da66-41e5-ec42-13a0b0f94c17"
      },
      "execution_count": null,
      "outputs": [
        {
          "output_type": "stream",
          "name": "stdout",
          "text": [
            "('CDG', 'KLA', 'KAT')\n",
            "('GRU', 'CGN', 'CDG')\n"
          ]
        }
      ]
    },
    {
      "cell_type": "code",
      "source": [
        "aluno = (1111, 'José', '10/05/2000', 1.7)"
      ],
      "metadata": {
        "id": "mgHQpaS00deJ"
      },
      "execution_count": null,
      "outputs": []
    },
    {
      "cell_type": "markdown",
      "source": [
        "Conjuntos - valores entre chaves {}"
      ],
      "metadata": {
        "id": "AAohCjwD1IpO"
      }
    },
    {
      "cell_type": "code",
      "source": [
        "conjunto = {1, 2, 'três', 'quatro', 5}\n",
        "conjunto3 = { 1, 5, 7 }\n",
        "print(len(conjunto))\n",
        "\n",
        "print( 1 in conjunto )\n",
        "print( 0.5 in conjunto )\n",
        "\n",
        "conjunto2 = conjunto | {6} # união\n",
        "\n",
        "print(conjunto2)\n",
        "\n",
        "print(conjunto & conjunto3)\n",
        "\n",
        "print(conjunto - conjunto3)\n",
        "\n",
        "print( conjunto > {1,2} )\n",
        "print({1,2} < conjunto )\n",
        "conjunto.pop() #exclui um elemento\n",
        "\n",
        "print(conjunto)\n",
        "print(conjunto <= conjunto)\n",
        "\n"
      ],
      "metadata": {
        "colab": {
          "base_uri": "https://localhost:8080/"
        },
        "id": "Ck80zhHO1Dzh",
        "outputId": "706849a4-b918-4c21-de3e-84a92f59adc0"
      },
      "execution_count": null,
      "outputs": [
        {
          "output_type": "stream",
          "name": "stdout",
          "text": [
            "5\n",
            "True\n",
            "False\n",
            "{1, 2, 'quatro', 'três', 5, 6}\n",
            "{1, 5}\n",
            "{2, 'quatro', 'três'}\n",
            "True\n",
            "True\n",
            "{2, 'quatro', 'três', 5}\n",
            "True\n"
          ]
        }
      ]
    },
    {
      "cell_type": "markdown",
      "source": [
        "Dicionário: funciona como conjunto em que elementos tem uma chave para que sejam recuperados"
      ],
      "metadata": {
        "id": "Xe24169j4piY"
      }
    },
    {
      "cell_type": "code",
      "source": [
        "d = {5:10, 3:'aaa', 'teste': 123, 'aaa': 'aaa'}\n",
        "\n",
        "print(d['teste'])\n",
        "\n",
        "print(d.keys())\n",
        "print(d.values())\n",
        "\n",
        "for chave in d.keys():\n",
        "  print(d[chave])"
      ],
      "metadata": {
        "colab": {
          "base_uri": "https://localhost:8080/"
        },
        "id": "gV2fAZi_42ek",
        "outputId": "2cfd31c1-aea0-46c7-a056-8a8b7a64c26f"
      },
      "execution_count": null,
      "outputs": [
        {
          "output_type": "stream",
          "name": "stdout",
          "text": [
            "123\n",
            "dict_keys([5, 3, 'teste', 'aaa'])\n",
            "dict_values([10, 'aaa', 123, 'aaa'])\n",
            "10\n",
            "aaa\n",
            "123\n",
            "aaa\n"
          ]
        }
      ]
    },
    {
      "cell_type": "code",
      "source": [
        "notas = [4.0, 7, 8, 9, 10]\n",
        "\n",
        "notas = notas + [5]\n",
        "\n",
        "print(notas)\n",
        "\n",
        "print(notas[0])\n",
        "print(notas[1])\n",
        "print(notas[3])\n",
        "\n",
        "for i in range(len(notas)):\n",
        "  print(notas[i])"
      ],
      "metadata": {
        "colab": {
          "base_uri": "https://localhost:8080/"
        },
        "id": "f5ZRwPY66Y-D",
        "outputId": "ae871821-49b6-4d06-e604-ba1b4ec8b5be"
      },
      "execution_count": null,
      "outputs": [
        {
          "output_type": "stream",
          "name": "stdout",
          "text": [
            "[4.0, 7, 8, 9, 10, 5]\n",
            "4.0\n",
            "7\n",
            "9\n",
            "4.0\n",
            "7\n",
            "8\n",
            "9\n",
            "10\n",
            "5\n"
          ]
        }
      ]
    },
    {
      "cell_type": "markdown",
      "source": [
        "Dados n números inteiros, imprimir na ordem inversa da leitura"
      ],
      "metadata": {
        "id": "i36LAdmj78Ht"
      }
    },
    {
      "cell_type": "code",
      "source": [
        "n = int( input('digite n:') )\n",
        "v = []\n",
        "for i in range(n):\n",
        "  x = int(input('digite um número:'))\n",
        "  v = v + [x]\n",
        "\n",
        "for i in reversed(range(n)):\n",
        "  print(v[i])\n"
      ],
      "metadata": {
        "colab": {
          "base_uri": "https://localhost:8080/"
        },
        "id": "HhlzK6HS8B5H",
        "outputId": "4f8fc9a5-7b63-499b-dfc8-e5a2f418a933"
      },
      "execution_count": null,
      "outputs": [
        {
          "output_type": "stream",
          "name": "stdout",
          "text": [
            "digite n:5\n",
            "digite um número:1\n",
            "digite um número:2\n",
            "digite um número:3\n",
            "digite um número:4\n",
            "digite um número:5\n",
            "5\n",
            "4\n",
            "3\n",
            "2\n",
            "1\n"
          ]
        }
      ]
    },
    {
      "cell_type": "markdown",
      "source": [
        "Dados o gabarito de uma prova de 5 questões, o número de alunos e os cartões resposta de cada um, imprima o número de acertos de cada um"
      ],
      "metadata": {
        "id": "j2OEc5lT9f_o"
      }
    },
    {
      "cell_type": "code",
      "source": [
        "gabarito = ['A','B','C','D','E']\n",
        "n = int(input('digite o número de alunos'))\n",
        "for i in range(n):\n",
        "  respostas = ['A','B','C','D','E']\n",
        "  print('digite as respostas:')\n",
        "  acertos = 0\n",
        "  for j in range(len(respostas)):\n",
        "    print(f'resposta questão {j}:')\n",
        "    respostas[j] = input()\n",
        "    if respostas[j] == gabarito[j]:\n",
        "      acertos += 1\n",
        "  print(f' aluno acertou {acertos}')"
      ],
      "metadata": {
        "colab": {
          "base_uri": "https://localhost:8080/"
        },
        "id": "7jQxSwJ_9rYQ",
        "outputId": "7f04a371-2675-4a7d-d264-d0f54af5276d"
      },
      "execution_count": null,
      "outputs": [
        {
          "output_type": "stream",
          "name": "stdout",
          "text": [
            "digite o número de alunos3\n",
            "digite as respostas:\n",
            "resposta questão 0:\n",
            "A\n",
            "resposta questão 1:\n",
            "A\n",
            "resposta questão 2:\n",
            "A\n",
            "resposta questão 3:\n",
            "A\n",
            "resposta questão 4:\n",
            "A\n",
            " aluno acertou 1\n",
            "digite as respostas:\n",
            "resposta questão 0:\n",
            "A\n",
            "resposta questão 1:\n",
            "B\n",
            "resposta questão 2:\n",
            "A\n",
            "resposta questão 3:\n",
            "A\n",
            "resposta questão 4:\n",
            "A\n",
            " aluno acertou 2\n",
            "digite as respostas:\n",
            "resposta questão 0:\n",
            "A\n",
            "resposta questão 1:\n",
            "B\n",
            "resposta questão 2:\n",
            "C\n",
            "resposta questão 3:\n",
            "D\n",
            "resposta questão 4:\n",
            "E\n",
            " aluno acertou 5\n"
          ]
        }
      ]
    },
    {
      "cell_type": "code",
      "source": [
        "n = int(input('digite n:'))\n",
        "v = []\n",
        "for i in range(n):\n",
        "  r = int(input())\n",
        "  v = v + [r]\n",
        "resultados = [0,0,0,0,0,0,0]\n",
        "for i in range(n):\n",
        "  resultados[v[i]] += 1\n",
        "print('frequências:')\n",
        "for i in range(1,7):\n",
        "  print(f'{i}: {resultados[i]} vezes')"
      ],
      "metadata": {
        "colab": {
          "base_uri": "https://localhost:8080/"
        },
        "id": "N7xZpM6f_3KR",
        "outputId": "a3d6bdfc-af7d-494a-e559-1910c6974e3f"
      },
      "execution_count": null,
      "outputs": [
        {
          "output_type": "stream",
          "name": "stdout",
          "text": [
            "digite n:10\n",
            "1\n",
            "1\n",
            "1\n",
            "2\n",
            "2\n",
            "3\n",
            "4\n",
            "4\n",
            "4\n",
            "5\n",
            "frequências:\n",
            "1: 3 vezes\n",
            "2: 2 vezes\n",
            "3: 1 vezes\n",
            "4: 3 vezes\n",
            "5: 1 vezes\n",
            "6: 0 vezes\n"
          ]
        }
      ]
    },
    {
      "cell_type": "markdown",
      "source": [
        "Beecrowd 1172"
      ],
      "metadata": {
        "id": "uTs-mhQgEH3K"
      }
    },
    {
      "cell_type": "code",
      "source": [
        "X = [0,0,0,0,0,0,0,0,0,0]\n",
        "for i in range(10):\n",
        "  X[i] = int(input())\n",
        "\n",
        "for i in range(10):\n",
        "  if X[i] <= 0:\n",
        "    X[i] = 1\n",
        "\n",
        "for i in range(10):\n",
        "  print(f'X[{i}] = {X[i]}')"
      ],
      "metadata": {
        "colab": {
          "base_uri": "https://localhost:8080/"
        },
        "id": "3RMOntbKEKPV",
        "outputId": "0cbd1154-236e-4ad2-caae-1746c54da75b"
      },
      "execution_count": null,
      "outputs": [
        {
          "output_type": "stream",
          "name": "stdout",
          "text": [
            "-1\n",
            "0\n",
            "10\n",
            "0\n",
            "-20\n",
            "3\n",
            "1\n",
            "3\n",
            "7\n",
            "9\n",
            "X[0] = 1\n",
            "X[1] = 1\n",
            "X[2] = 10\n",
            "X[3] = 1\n",
            "X[4] = 1\n",
            "X[5] = 3\n",
            "X[6] = 1\n",
            "X[7] = 3\n",
            "X[8] = 7\n",
            "X[9] = 9\n"
          ]
        }
      ]
    },
    {
      "cell_type": "code",
      "source": [
        "#Beecrowd 1178\n",
        "\n",
        "N = []\n",
        "v = float(input())\n",
        "N = N + [v]\n",
        "for i in range(1,100):\n",
        "  v = N[i-1]/2\n",
        "  N = N + [v]\n",
        "\n",
        "for i in range(100):\n",
        "  print(f'N[{i}] = {N[i]:.4f}')"
      ],
      "metadata": {
        "colab": {
          "base_uri": "https://localhost:8080/"
        },
        "id": "KGjNuSxkGDR_",
        "outputId": "0f148813-e745-4162-e548-48e6842e193e"
      },
      "execution_count": null,
      "outputs": [
        {
          "output_type": "stream",
          "name": "stdout",
          "text": [
            "200.0000\n",
            "N[0] = 200.0000\n",
            "N[1] = 100.0000\n",
            "N[2] = 50.0000\n",
            "N[3] = 25.0000\n",
            "N[4] = 12.5000\n",
            "N[5] = 6.2500\n",
            "N[6] = 3.1250\n",
            "N[7] = 1.5625\n",
            "N[8] = 0.7812\n",
            "N[9] = 0.3906\n",
            "N[10] = 0.1953\n",
            "N[11] = 0.0977\n",
            "N[12] = 0.0488\n",
            "N[13] = 0.0244\n",
            "N[14] = 0.0122\n",
            "N[15] = 0.0061\n",
            "N[16] = 0.0031\n",
            "N[17] = 0.0015\n",
            "N[18] = 0.0008\n",
            "N[19] = 0.0004\n",
            "N[20] = 0.0002\n",
            "N[21] = 0.0001\n",
            "N[22] = 0.0000\n",
            "N[23] = 0.0000\n",
            "N[24] = 0.0000\n",
            "N[25] = 0.0000\n",
            "N[26] = 0.0000\n",
            "N[27] = 0.0000\n",
            "N[28] = 0.0000\n",
            "N[29] = 0.0000\n",
            "N[30] = 0.0000\n",
            "N[31] = 0.0000\n",
            "N[32] = 0.0000\n",
            "N[33] = 0.0000\n",
            "N[34] = 0.0000\n",
            "N[35] = 0.0000\n",
            "N[36] = 0.0000\n",
            "N[37] = 0.0000\n",
            "N[38] = 0.0000\n",
            "N[39] = 0.0000\n",
            "N[40] = 0.0000\n",
            "N[41] = 0.0000\n",
            "N[42] = 0.0000\n",
            "N[43] = 0.0000\n",
            "N[44] = 0.0000\n",
            "N[45] = 0.0000\n",
            "N[46] = 0.0000\n",
            "N[47] = 0.0000\n",
            "N[48] = 0.0000\n",
            "N[49] = 0.0000\n",
            "N[50] = 0.0000\n",
            "N[51] = 0.0000\n",
            "N[52] = 0.0000\n",
            "N[53] = 0.0000\n",
            "N[54] = 0.0000\n",
            "N[55] = 0.0000\n",
            "N[56] = 0.0000\n",
            "N[57] = 0.0000\n",
            "N[58] = 0.0000\n",
            "N[59] = 0.0000\n",
            "N[60] = 0.0000\n",
            "N[61] = 0.0000\n",
            "N[62] = 0.0000\n",
            "N[63] = 0.0000\n",
            "N[64] = 0.0000\n",
            "N[65] = 0.0000\n",
            "N[66] = 0.0000\n",
            "N[67] = 0.0000\n",
            "N[68] = 0.0000\n",
            "N[69] = 0.0000\n",
            "N[70] = 0.0000\n",
            "N[71] = 0.0000\n",
            "N[72] = 0.0000\n",
            "N[73] = 0.0000\n",
            "N[74] = 0.0000\n",
            "N[75] = 0.0000\n",
            "N[76] = 0.0000\n",
            "N[77] = 0.0000\n",
            "N[78] = 0.0000\n",
            "N[79] = 0.0000\n",
            "N[80] = 0.0000\n",
            "N[81] = 0.0000\n",
            "N[82] = 0.0000\n",
            "N[83] = 0.0000\n",
            "N[84] = 0.0000\n",
            "N[85] = 0.0000\n",
            "N[86] = 0.0000\n",
            "N[87] = 0.0000\n",
            "N[88] = 0.0000\n",
            "N[89] = 0.0000\n",
            "N[90] = 0.0000\n",
            "N[91] = 0.0000\n",
            "N[92] = 0.0000\n",
            "N[93] = 0.0000\n",
            "N[94] = 0.0000\n",
            "N[95] = 0.0000\n",
            "N[96] = 0.0000\n",
            "N[97] = 0.0000\n",
            "N[98] = 0.0000\n",
            "N[99] = 0.0000\n"
          ]
        }
      ]
    },
    {
      "cell_type": "code",
      "source": [
        "#Beecrowd 1173\n",
        "N = [0,0,0,0,0,0,0,0,0,0]\n",
        "N[0]= int(input())\n",
        "for i in range(1,10):\n",
        "  N[i] = N[i-1]*2\n",
        "for i in range(10):\n",
        "  print(f'N[{i}] = {N[i]}')"
      ],
      "metadata": {
        "colab": {
          "base_uri": "https://localhost:8080/"
        },
        "id": "irlv6QoBJsFL",
        "outputId": "ecaacd67-aca6-41e2-ad51-9ca9cdd245e7"
      },
      "execution_count": null,
      "outputs": [
        {
          "output_type": "stream",
          "name": "stdout",
          "text": [
            "1\n",
            "N[0] = 1\n",
            "N[1] = 2\n",
            "N[2] = 4\n",
            "N[3] = 8\n",
            "N[4] = 16\n",
            "N[5] = 32\n",
            "N[6] = 64\n",
            "N[7] = 128\n",
            "N[8] = 256\n",
            "N[9] = 512\n"
          ]
        }
      ]
    },
    {
      "cell_type": "markdown",
      "source": [
        "Importação de bibliotecas\n",
        "\n",
        "NumPy"
      ],
      "metadata": {
        "id": "VN6_htWx1Xom"
      }
    },
    {
      "cell_type": "code",
      "source": [
        "import numpy as np\n",
        "\n",
        "v1 = np.array([1,2,3,4,5])\n",
        "v2 = np.arange(0,10,2)\n",
        "v3 = np.linspace(0,1,5)\n",
        "v4 = np.linspace(0,1,6)\n",
        "v5 = np.linspace(0,1,7)\n",
        "v6 = np.linspace(0,1,8)\n",
        "v7 = np.linspace(0,1,9)\n",
        "print(v1)\n",
        "print(v2)\n",
        "print(v3)\n",
        "print(v4)\n",
        "print(v5)\n",
        "print(v6)\n",
        "print(v7)\n",
        "v0 = np.zeros(10)\n",
        "print(v0)\n",
        "vones = np.ones(7)\n",
        "print(vones)\n",
        "\n",
        "vsoma = v1 + 2\n",
        "print(vsoma)\n",
        "vmult = v1 * 7\n",
        "print(vmult)\n",
        "vq = v1 ** 2\n",
        "print(vq)\n",
        "\n",
        "rq = np.sqrt(vq)\n",
        "\n",
        "print(rq)"
      ],
      "metadata": {
        "colab": {
          "base_uri": "https://localhost:8080/"
        },
        "id": "zIvrQg_o1XKK",
        "outputId": "97e1a302-4c22-4cfd-f877-f6517deb6a10"
      },
      "execution_count": null,
      "outputs": [
        {
          "output_type": "stream",
          "name": "stdout",
          "text": [
            "[1 2 3 4 5]\n",
            "[0 2 4 6 8]\n",
            "[0.   0.25 0.5  0.75 1.  ]\n",
            "[0.  0.2 0.4 0.6 0.8 1. ]\n",
            "[0.         0.16666667 0.33333333 0.5        0.66666667 0.83333333\n",
            " 1.        ]\n",
            "[0.         0.14285714 0.28571429 0.42857143 0.57142857 0.71428571\n",
            " 0.85714286 1.        ]\n",
            "[0.    0.125 0.25  0.375 0.5   0.625 0.75  0.875 1.   ]\n",
            "[0. 0. 0. 0. 0. 0. 0. 0. 0. 0.]\n",
            "[1. 1. 1. 1. 1. 1. 1.]\n",
            "[3 4 5 6 7]\n",
            "[ 7 14 21 28 35]\n",
            "[ 1  4  9 16 25]\n",
            "[1. 2. 3. 4. 5.]\n"
          ]
        }
      ]
    },
    {
      "cell_type": "code",
      "source": [
        "v3 = np.linspace(0,10,5) # 0 - início 10 - final 5 número de elementos do vetor que serão igualmente espaçad\n",
        "print(v3)"
      ],
      "metadata": {
        "colab": {
          "base_uri": "https://localhost:8080/"
        },
        "id": "MjbEsWCY44h4",
        "outputId": "4d601df9-6c67-4aa6-aa81-591ef92835cd"
      },
      "execution_count": null,
      "outputs": [
        {
          "output_type": "stream",
          "name": "stdout",
          "text": [
            "[ 0.          1.11111111  2.22222222  3.33333333  4.44444444  5.55555556\n",
            "  6.66666667  7.77777778  8.88888889 10.        ]\n"
          ]
        }
      ]
    },
    {
      "cell_type": "markdown",
      "source": [
        "Matrizes\n",
        "\n"
      ],
      "metadata": {
        "id": "EDW8j8X-56J7"
      }
    },
    {
      "cell_type": "code",
      "source": [
        "# matriz com 3 linhas e 4 colunas:\n",
        "\n",
        "matriz34 = np.array([[1, 2, 3, 4],\n",
        "                     [5, 6, 7, 8],\n",
        "                     [9,10,11,12]])\n",
        "matriz32Zeros = np.zeros((5,4))\n",
        "\n",
        "matrizId = np.eye(3)\n",
        "\n",
        "print(matriz34)\n",
        "print(matriz32Zeros)\n",
        "\n",
        "print(matrizId)\n",
        "\n",
        "print(matriz34[1,2])\n",
        "print(matriz34[:,1])\n",
        "print(matriz34[1,:])"
      ],
      "metadata": {
        "colab": {
          "base_uri": "https://localhost:8080/"
        },
        "id": "4HWgsPjT44X-",
        "outputId": "ce38ff9e-23b4-4c6e-d049-a08f3fbece24"
      },
      "execution_count": null,
      "outputs": [
        {
          "output_type": "stream",
          "name": "stdout",
          "text": [
            "[[ 1  2  3  4]\n",
            " [ 5  6  7  8]\n",
            " [ 9 10 11 12]]\n",
            "[[0. 0. 0. 0.]\n",
            " [0. 0. 0. 0.]\n",
            " [0. 0. 0. 0.]\n",
            " [0. 0. 0. 0.]\n",
            " [0. 0. 0. 0.]]\n",
            "[[1. 0. 0.]\n",
            " [0. 1. 0.]\n",
            " [0. 0. 1.]]\n",
            "7\n",
            "[ 2  6 10]\n",
            "[5 6 7 8]\n"
          ]
        }
      ]
    },
    {
      "cell_type": "markdown",
      "source": [
        "multiplicação de matrizes"
      ],
      "metadata": {
        "id": "FzbcVUBD77Co"
      }
    },
    {
      "cell_type": "code",
      "source": [
        "\n",
        "matriz34 = np.array([[1, 2, 3, 4],\n",
        "                     [5, 6, 7, 8],\n",
        "                     [9,10,11,12]])\n",
        "\n",
        "matriz42 = np.array([[1,2],\n",
        "                     [3,4],\n",
        "                     [5,6],\n",
        "                     [7,8]])\n",
        "\n",
        "prod = np.dot( matriz34, matriz42 )\n",
        "print(prod)\n",
        "\n",
        "matrizT = matriz42.T\n",
        "\n",
        "print(matrizT)\n",
        "\n",
        "msoma = matriz34 + 1\n",
        "\n",
        "print(msoma)\n",
        "\n",
        "print(np.sum(matriz34))"
      ],
      "metadata": {
        "colab": {
          "base_uri": "https://localhost:8080/"
        },
        "id": "uwL7BIcG79Y-",
        "outputId": "dae22f35-9796-4369-eebd-c4264e0e6f86"
      },
      "execution_count": null,
      "outputs": [
        {
          "output_type": "stream",
          "name": "stdout",
          "text": [
            "[[ 50  60]\n",
            " [114 140]\n",
            " [178 220]]\n",
            "[[1 3 5 7]\n",
            " [2 4 6 8]]\n",
            "[[ 2  3  4  5]\n",
            " [ 6  7  8  9]\n",
            " [10 11 12 13]]\n",
            "78\n"
          ]
        }
      ]
    },
    {
      "cell_type": "code",
      "source": [
        "mletras = [['a','b','c'],\n",
        "           ['d','e','f']]\n",
        "print(mletras)\n",
        "mletras[1][2]"
      ],
      "metadata": {
        "colab": {
          "base_uri": "https://localhost:8080/",
          "height": 53
        },
        "id": "JO2syme59dvA",
        "outputId": "1175c590-51fb-45c3-d02a-4d723b6f28a0"
      },
      "execution_count": null,
      "outputs": [
        {
          "output_type": "stream",
          "name": "stdout",
          "text": [
            "[['a', 'b', 'c'], ['d', 'e', 'f']]\n"
          ]
        },
        {
          "output_type": "execute_result",
          "data": {
            "text/plain": [
              "'f'"
            ],
            "application/vnd.google.colaboratory.intrinsic+json": {
              "type": "string"
            }
          },
          "metadata": {},
          "execution_count": 36
        }
      ]
    },
    {
      "cell_type": "markdown",
      "source": [
        "```\n",
        "[1, 2, 3, 4] [1,2]     [1*1+3*2+5*3+4*7,2*1+4*2+6*3+8*4]\n",
        "[5, 6, 7, 8] [3,4]     [1*5+3*6+5*7+7*8,2*5+4*6+6*7+8*8]\n",
        "[9,10,11,12] [5,6]  =  [1*9+3*10+5*11+7*12,2*9+4*10+6*11+8*12]\n",
        "             [7,8]\n",
        "\n",
        "```\n",
        "3 x 4 - 4 x n = 3 x n\n",
        "para cada elemento p[i,j] = somatória com k = 0 até n de m1[i,k]*[k,j]"
      ],
      "metadata": {
        "id": "yRA0Hwj7-D6R"
      }
    },
    {
      "cell_type": "code",
      "source": [
        "matriz34 = np.array([[1, 2, 3, 4],\n",
        "                     [5, 6, 7, 8],\n",
        "                     [9,10,11,12]])\n",
        "\n",
        "matriz42 = np.array([[1,2],\n",
        "                     [3,4],\n",
        "                     [5,6],\n",
        "                     [7,8]])\n",
        "\n",
        "\n",
        "m = 3\n",
        "n = 4\n",
        "p = 2\n",
        "produto = np.zeros((m,p))\n",
        "for i in range(m):\n",
        "  for j in range(p):\n",
        "    for k in range(n):\n",
        "      produto[i,j] += matriz34[i,k]*matriz42[k,j]\n",
        "\n",
        "print(produto)"
      ],
      "metadata": {
        "colab": {
          "base_uri": "https://localhost:8080/"
        },
        "id": "4_NngoBABNd0",
        "outputId": "973587e8-6ae5-4a21-a732-ded375c556a4"
      },
      "execution_count": null,
      "outputs": [
        {
          "output_type": "stream",
          "name": "stdout",
          "text": [
            "[[ 50.  60.]\n",
            " [114. 140.]\n",
            " [178. 220.]]\n"
          ]
        }
      ]
    },
    {
      "cell_type": "code",
      "source": [
        "#dada uma matriz m x n, verificar se há números repetidos\n",
        "\n",
        "m = int(input('digite número de linhas:'))\n",
        "n = int(input('digite número de colunas:'))\n",
        "\n",
        "matriz = np.zeros((m,n))\n",
        "p = m*n\n",
        "print(f'digite os {p} elementos da matriz:')\n",
        "for i in range(m):\n",
        "  for j in range(n):\n",
        "    print(f'elemento matriz[{i},{j}]')\n",
        "    matriz[i,j] = int(input())\n",
        "\n",
        "for i in range(m):\n",
        "  for j in range(n):\n",
        "    for i1 in range(m):\n",
        "      for j1 in range(n):\n",
        "        if ( (i != i1 and j != j1) and matriz[i,j] == matriz[i1,j1]):\n",
        "          print( f'{matriz[i,j]} se repete')\n",
        "          quit()\n",
        "\n",
        "print(matriz)"
      ],
      "metadata": {
        "colab": {
          "base_uri": "https://localhost:8080/"
        },
        "id": "ztMOaAfUDaKX",
        "outputId": "ef7955a6-2adc-46db-a388-c2c50ccd372c"
      },
      "execution_count": null,
      "outputs": [
        {
          "output_type": "stream",
          "name": "stdout",
          "text": [
            "digite número de linhas:3\n",
            "digite número de colunas:3\n",
            "digite os 9 elementos da matriz:\n",
            "elemento matriz[0,0]\n",
            "1\n",
            "elemento matriz[0,1]\n",
            "2\n",
            "elemento matriz[0,2]\n",
            "3\n",
            "elemento matriz[1,0]\n",
            "4\n",
            "elemento matriz[1,1]\n",
            "5\n",
            "elemento matriz[1,2]\n",
            "1\n",
            "elemento matriz[2,0]\n",
            "7\n",
            "elemento matriz[2,1]\n",
            "8\n",
            "elemento matriz[2,2]\n",
            "9\n",
            "1.0 se repete\n",
            "1.0 se repete\n",
            "[[1. 2. 3.]\n",
            " [4. 5. 1.]\n",
            " [7. 8. 9.]]\n"
          ]
        }
      ]
    },
    {
      "cell_type": "code",
      "source": [
        "#problema 5 macmulti: Dada uma matriz nxn de inteiros, verificar se ela é de permutação\n",
        "import numpy as np\n",
        "\n",
        "n = int(input('digite dimensão da matriz:'))\n",
        "matriz = np.zeros((n,n))\n",
        "p = n*n\n",
        "print(f'digite os {p} elementos da matriz:')\n",
        "for i in range(n):\n",
        "  for j in range(n):\n",
        "    print(f'elemento matriz[{i},{j}]')\n",
        "    matriz[i,j] = int(input())\n",
        "permutacao = True\n",
        "for i in range(n):\n",
        "  contazero = 0\n",
        "  contaum = 0\n",
        "  for j in range(n):\n",
        "    if matriz[i,j] == 1:\n",
        "      contaum += 1\n",
        "    if matriz[i,j] == 0:\n",
        "      contazero += 1\n",
        "  if contazero != n-1 and contaum != 1:\n",
        "    permutacao = False\n",
        "\n",
        "for i in range(n):\n",
        "  contazero = 0\n",
        "  contaum = 0\n",
        "  for j in range(n):\n",
        "    if matriz[j,i] == 1:\n",
        "      contaum += 1\n",
        "    if matriz[j,i] == 0:\n",
        "      contazero += 1\n",
        "  if contazero != n-1 and contaum != 1:\n",
        "    permutacao = False\n",
        "\n",
        "if permutacao:\n",
        "  print('é permutação')\n",
        "else:\n",
        "  print('não é permutação')\n",
        "\n",
        "# 0 0 1\n",
        "# 1 0 0\n",
        "# 0 1 0"
      ],
      "metadata": {
        "colab": {
          "base_uri": "https://localhost:8080/"
        },
        "id": "bg8pqijwHLsE",
        "outputId": "1b7e2007-6780-4cde-ee5f-b9569b6f8cb4"
      },
      "execution_count": null,
      "outputs": [
        {
          "output_type": "stream",
          "name": "stdout",
          "text": [
            "digite dimensão da matriz:3\n",
            "digite os 9 elementos da matriz:\n",
            "elemento matriz[0,0]\n",
            "1\n",
            "elemento matriz[0,1]\n",
            "0\n",
            "elemento matriz[0,2]\n",
            "0\n",
            "elemento matriz[1,0]\n",
            "1\n",
            "elemento matriz[1,1]\n",
            "0\n",
            "elemento matriz[1,2]\n",
            "0\n",
            "elemento matriz[2,0]\n",
            "1\n",
            "elemento matriz[2,1]\n",
            "0\n",
            "elemento matriz[2,2]\n",
            "0\n",
            "não é permutação\n"
          ]
        }
      ]
    },
    {
      "cell_type": "code",
      "source": [
        "matriz3d = np.array([[[1,2,3],\n",
        "                      [4,5,6],\n",
        "                      [7,8,9]],\n",
        "                     [[10,11,12],\n",
        "                      [13,14,15],\n",
        "                      [16,17,18]],\n",
        "                     [[19,20,21],\n",
        "                      [22,23,24],\n",
        "                      [25,26,27]]])\n",
        "\n",
        "print(matriz3d[0,1,2])"
      ],
      "metadata": {
        "colab": {
          "base_uri": "https://localhost:8080/"
        },
        "id": "2HzbsqiOKC4U",
        "outputId": "e9d3b4a8-3628-46a1-a27f-2a97d7f31948"
      },
      "execution_count": null,
      "outputs": [
        {
          "output_type": "stream",
          "name": "stdout",
          "text": [
            "6\n"
          ]
        }
      ]
    },
    {
      "cell_type": "code",
      "source": [
        "#problema 1181\n",
        "\n",
        "linha = int(input())\n",
        "op = input()\n",
        "soma = 0;\n",
        "m =[]\n",
        "for i in range(12):\n",
        "  m.append([])\n",
        "  for j in range(12):\n",
        "    x = float(input())\n",
        "    m[i].append(x)\n",
        "    if i == linha:\n",
        "      soma += x\n",
        "if op == 'S':\n",
        "  print(f'{soma:1.f}')\n",
        "else:\n",
        "  media = soma/12\n",
        "  print(f'{media:.1f}')"
      ],
      "metadata": {
        "id": "u0QTrVxVl1SE"
      },
      "execution_count": null,
      "outputs": []
    },
    {
      "cell_type": "markdown",
      "source": [
        "Subprogramas:\n",
        "Quando um trecho de programa é repetido de forma recorrente, podemos criar uma função ou procedimento. Uma função resulta em um valor, enquanto um procedimento apenas executa algum código, sem um resultado."
      ],
      "metadata": {
        "id": "HcR64g30pmZ6"
      }
    },
    {
      "cell_type": "code",
      "source": [
        "def procedimento():\n",
        "  print(\"Executado de um procedimento\")\n",
        "\n",
        "procedimento()"
      ],
      "metadata": {
        "colab": {
          "base_uri": "https://localhost:8080/"
        },
        "id": "cTG5Jt9npmIX",
        "outputId": "4276684b-0e87-4d25-bc6d-9f474c7a0196"
      },
      "execution_count": 1,
      "outputs": [
        {
          "output_type": "stream",
          "name": "stdout",
          "text": [
            "Executado de um procedimento\n"
          ]
        }
      ]
    },
    {
      "cell_type": "code",
      "source": [
        "def dobro( x ):\n",
        "  return x * 2\n",
        "\n",
        "y = dobro(3)\n",
        "\n",
        "print(y)"
      ],
      "metadata": {
        "colab": {
          "base_uri": "https://localhost:8080/"
        },
        "id": "V7HpriVfqTdO",
        "outputId": "08495c96-e223-45af-990a-9d59e8f951b7"
      },
      "execution_count": 3,
      "outputs": [
        {
          "output_type": "stream",
          "name": "stdout",
          "text": [
            "6\n"
          ]
        }
      ]
    },
    {
      "cell_type": "code",
      "source": [
        "def oi(nome):\n",
        "  print(f'Olá {nome}')\n",
        "\n",
        "oi('Eugênio')"
      ],
      "metadata": {
        "colab": {
          "base_uri": "https://localhost:8080/"
        },
        "id": "zxB4IgtEqx0v",
        "outputId": "d0363fac-c0ce-4e5f-e570-828c3df9774e"
      },
      "execution_count": 4,
      "outputs": [
        {
          "output_type": "stream",
          "name": "stdout",
          "text": [
            "Olá Eugênio\n"
          ]
        }
      ]
    },
    {
      "cell_type": "code",
      "source": [
        "def calcularImc(peso, altura):\n",
        "  return peso/(altura*altura)\n",
        "\n",
        "peso = float(input('digite o peso:'))\n",
        "altura = float(input('digite a altura:'))\n",
        "imc = calcularImc(peso, altura)\n",
        "print(f'o IMC é {imc:.2f}')"
      ],
      "metadata": {
        "colab": {
          "base_uri": "https://localhost:8080/"
        },
        "id": "jVLikMDGrGHi",
        "outputId": "fca037a4-ab6c-4620-e967-03a0636e0b6f"
      },
      "execution_count": 6,
      "outputs": [
        {
          "output_type": "stream",
          "name": "stdout",
          "text": [
            "digite o peso:70\n",
            "digite a altura:1.65\n",
            "o IMC é 25.71\n"
          ]
        }
      ]
    },
    {
      "cell_type": "code",
      "source": [
        "import math\n",
        "\n",
        "def calcularAreaCirculo(raio):\n",
        "  area = math.pi * raio ** 2\n",
        "  return area\n",
        "\n",
        "r = float(input('digite o raio:'))\n",
        "a = calcularAreaCirculo(r)\n",
        "print(f'a área do círculo com raio {r} é {a}')"
      ],
      "metadata": {
        "colab": {
          "base_uri": "https://localhost:8080/"
        },
        "id": "E382NAWprwM9",
        "outputId": "a92149e1-859d-4a26-fda8-d5d36fcad6be"
      },
      "execution_count": 8,
      "outputs": [
        {
          "output_type": "stream",
          "name": "stdout",
          "text": [
            "digite o raio:3\n",
            "a área do círculo com raio 3.0 é 28.274333882308138\n"
          ]
        }
      ]
    },
    {
      "cell_type": "markdown",
      "source": [
        "\n",
        "\n",
        "1"
      ],
      "metadata": {
        "id": "OKlGFn99txx2"
      }
    },
    {
      "cell_type": "code",
      "source": [
        "#Macmulti exercícios com funções 1\n",
        "\n",
        "def contaDigitos( n, d ):\n",
        "  q = n\n",
        "  cont = 0\n",
        "  while q > 0:\n",
        "    digito = q % 10\n",
        "    if digito == d:\n",
        "      cont += 1\n",
        "    q //= 10\n",
        "  return cont\n",
        "\n",
        "x = int(input('digite x:'))\n",
        "y = int(input('digite y:'))\n",
        "\n",
        "permutacao = True\n",
        "for d in range(1,10):\n",
        "  if contaDigitos(x, d) != contaDigitos(y, d):\n",
        "    permutacao = False\n",
        "    break\n",
        "\n",
        "if permutacao:\n",
        "  print(f'{x} é permutação de {y}')\n",
        "else:\n",
        "  print(f'{x} não é permutação de {y}')"
      ],
      "metadata": {
        "colab": {
          "base_uri": "https://localhost:8080/"
        },
        "id": "GsxPchWStDGz",
        "outputId": "f136e06e-4852-4dc7-f01f-e55befb907d8"
      },
      "execution_count": 19,
      "outputs": [
        {
          "output_type": "stream",
          "name": "stdout",
          "text": [
            "digite x:12345\n",
            "digite y:32145\n",
            "12345 é permutação de 32145\n"
          ]
        }
      ]
    },
    {
      "cell_type": "code",
      "source": [
        "#Macmulti problemas com funções - 2\n",
        "\n",
        "def encaixa(a, b):\n",
        "  while b != 0 and a%10 == b%10:\n",
        "    a //= 10\n",
        "    b //= 10\n",
        "  return b == 0\n",
        "\n",
        "x = int(input('digite x:'))\n",
        "y = int(input('digite y:'))\n",
        "\n",
        "if x < y: # x sempre será o número maior\n",
        "  aux = x\n",
        "  x = y\n",
        "  y = aux\n",
        "maior = x\n",
        "menor = y\n",
        "segmento = False\n",
        "while maior >= menor:\n",
        "  if encaixa(maior,menor):\n",
        "    segmento = True\n",
        "  maior //= 10\n",
        "if segmento:\n",
        "  print(f'{y} é segmento de {x}')\n",
        "else:\n",
        "  print(f'{y} não é segmento de {x}')"
      ],
      "metadata": {
        "colab": {
          "base_uri": "https://localhost:8080/"
        },
        "id": "aVdy064-w9WQ",
        "outputId": "3ded9001-0589-4a73-b6b4-9c795e4180af"
      },
      "execution_count": 27,
      "outputs": [
        {
          "output_type": "stream",
          "name": "stdout",
          "text": [
            "digite x:3\n",
            "digite y:243\n",
            "3 é segmento de 243\n"
          ]
        }
      ]
    },
    {
      "cell_type": "code",
      "source": [
        "#Macmulti problemas com funções - 5\n",
        "\n",
        "def ehPrimo(n):\n",
        "  for i in range(2,n):\n",
        "    if n % i == 0:\n",
        "      return False\n",
        "  return True\n",
        "\n",
        "n = int(input('digite n:'))\n",
        "\n",
        "cont = 0\n",
        "soma = 0\n",
        "p = 2\n",
        "while cont < n:\n",
        "  if ehPrimo(p):\n",
        "    print(p)\n",
        "    soma += p\n",
        "    cont += 1\n",
        "  p += 1\n",
        "\n",
        "print(soma)\n",
        ""
      ],
      "metadata": {
        "colab": {
          "base_uri": "https://localhost:8080/"
        },
        "id": "26KfhTQ42N1O",
        "outputId": "0db9591e-75eb-45fe-d78f-03ce90e58ac5"
      },
      "execution_count": 38,
      "outputs": [
        {
          "output_type": "stream",
          "name": "stdout",
          "text": [
            "digite n:20\n",
            "2\n",
            "3\n",
            "5\n",
            "7\n",
            "11\n",
            "13\n",
            "17\n",
            "19\n",
            "23\n",
            "29\n",
            "31\n",
            "37\n",
            "41\n",
            "43\n",
            "47\n",
            "53\n",
            "59\n",
            "61\n",
            "67\n",
            "71\n",
            "639\n"
          ]
        }
      ]
    },
    {
      "cell_type": "markdown",
      "source": [
        "Lambda é uma função definida dentro da atribuição"
      ],
      "metadata": {
        "id": "wcZ47-dc4U4b"
      }
    },
    {
      "cell_type": "code",
      "source": [
        "x = lambda a: a + 1\n",
        "\n",
        "print( x(3) )"
      ],
      "metadata": {
        "colab": {
          "base_uri": "https://localhost:8080/"
        },
        "id": "E_RFG1h44cXy",
        "outputId": "53388806-2afe-4667-baed-81f5c5164315"
      },
      "execution_count": 39,
      "outputs": [
        {
          "output_type": "stream",
          "name": "stdout",
          "text": [
            "4\n"
          ]
        }
      ]
    },
    {
      "cell_type": "code",
      "source": [
        "soma = lambda a,b: a + b\n",
        "print( soma( 10, 20 ))"
      ],
      "metadata": {
        "colab": {
          "base_uri": "https://localhost:8080/"
        },
        "id": "X0UrIzqm4xIi",
        "outputId": "754fc12d-b16e-482b-e69b-b50164e202de"
      },
      "execution_count": 40,
      "outputs": [
        {
          "output_type": "stream",
          "name": "stdout",
          "text": [
            "30\n"
          ]
        }
      ]
    },
    {
      "cell_type": "code",
      "source": [
        "def multiplicador(n):\n",
        "  return lambda a: a * n\n",
        "\n",
        "dobro = multiplicador(2)\n",
        "triplo = multiplicador(3)\n",
        "\n",
        "print( dobro(10) )\n",
        "print( triplo(10) )"
      ],
      "metadata": {
        "colab": {
          "base_uri": "https://localhost:8080/"
        },
        "id": "qam38UCa5DWY",
        "outputId": "0ccf9bf5-e3c0-493c-d78f-882110dade8e"
      },
      "execution_count": 41,
      "outputs": [
        {
          "output_type": "stream",
          "name": "stdout",
          "text": [
            "20\n",
            "30\n"
          ]
        }
      ]
    },
    {
      "cell_type": "markdown",
      "source": [
        "Exemplo de uso de recursão"
      ],
      "metadata": {
        "id": "g9cYa2B47PVb"
      }
    },
    {
      "cell_type": "code",
      "source": [],
      "metadata": {
        "id": "V4-PI8Nh7Oxz"
      },
      "execution_count": null,
      "outputs": []
    },
    {
      "cell_type": "code",
      "source": [
        "def fatorial(n):\n",
        "  if n == 0 or n == 1:\n",
        "    return 1\n",
        "  else:\n",
        "    return fatorial(n-1)*n\n",
        "\n",
        "print(fatorial(20))\n",
        "\n",
        "\n"
      ],
      "metadata": {
        "colab": {
          "base_uri": "https://localhost:8080/"
        },
        "id": "4CK2ScTy51bg",
        "outputId": "d31a7047-d8da-45a9-ac2f-b96a2b21f666"
      },
      "execution_count": 1,
      "outputs": [
        {
          "output_type": "stream",
          "name": "stdout",
          "text": [
            "2432902008176640000\n"
          ]
        }
      ]
    },
    {
      "cell_type": "code",
      "source": [],
      "metadata": {
        "id": "5zkjTfWE6_bq"
      },
      "execution_count": null,
      "outputs": []
    },
    {
      "cell_type": "markdown",
      "source": [
        "Recursão é quando uma função faz uma chamada para ela mesma\n",
        "Se for feita sem querer, normalmente provoca um loop infinito\n",
        "Cuidado com a recursão indireta, como abaixo:"
      ],
      "metadata": {
        "id": "dAkhJ-__7Axo"
      }
    },
    {
      "cell_type": "code",
      "source": [
        "def f():\n",
        "  g()\n",
        "\n",
        "def g():\n",
        "  h():\n",
        "\n",
        "def h():\n",
        "  f():\n",
        "\n",
        "\n"
      ],
      "metadata": {
        "id": "ydAbVU5d6y-S"
      },
      "execution_count": null,
      "outputs": []
    }
  ],
  "metadata": {
    "colab": {
      "provenance": []
    },
    "kernelspec": {
      "display_name": "Python 3",
      "name": "python3"
    },
    "language_info": {
      "name": "python"
    }
  },
  "nbformat": 4,
  "nbformat_minor": 0
}